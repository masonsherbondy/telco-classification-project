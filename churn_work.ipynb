{
 "cells": [
  {
   "cell_type": "code",
   "execution_count": 1,
   "id": "b5720224",
   "metadata": {},
   "outputs": [],
   "source": [
    "import warnings\n",
    "warnings.filterwarnings('ignore')\n",
    "\n",
    "import numpy as np\n",
    "import pandas as pd\n",
    "import matplotlib.pyplot as plt\n",
    "import seaborn as sns\n",
    "import mason_functions as mf\n",
    "from scipy import stats\n",
    "\n",
    "from sklearn.model_selection import train_test_split\n",
    "from sklearn.metrics import confusion_matrix\n",
    "from sklearn.metrics import classification_report\n",
    "from sklearn.tree import DecisionTreeClassifier\n",
    "from sklearn.tree import export_graphviz\n",
    "from sklearn.ensemble import RandomForestClassifier\n",
    "from sklearn.neighbors import KNeighborsClassifier\n",
    "from sklearn.linear_model import LogisticRegression\n",
    "\n",
    "import acquireTelco\n",
    "import prepareTelco"
   ]
  },
  {
   "cell_type": "markdown",
   "id": "e8f5c4d9",
   "metadata": {},
   "source": [
    "## Data Wrangle"
   ]
  },
  {
   "cell_type": "code",
   "execution_count": 2,
   "id": "29c380fe",
   "metadata": {},
   "outputs": [],
   "source": [
    "#acquire data from database\n",
    "df = acquireTelco.get_telco_data()"
   ]
  },
  {
   "cell_type": "code",
   "execution_count": 3,
   "id": "c3e6a3f5",
   "metadata": {},
   "outputs": [
    {
     "name": "stdout",
     "output_type": "stream",
     "text": [
      "<class 'pandas.core.frame.DataFrame'>\n",
      "Int64Index: 7043 entries, 0 to 7042\n",
      "Data columns (total 24 columns):\n",
      " #   Column                    Non-Null Count  Dtype  \n",
      "---  ------                    --------------  -----  \n",
      " 0   payment_type_id           7043 non-null   int64  \n",
      " 1   internet_service_type_id  7043 non-null   int64  \n",
      " 2   contract_type_id          7043 non-null   int64  \n",
      " 3   customer_id               7043 non-null   object \n",
      " 4   gender                    7043 non-null   object \n",
      " 5   senior_citizen            7043 non-null   int64  \n",
      " 6   partner                   7043 non-null   object \n",
      " 7   dependents                7043 non-null   object \n",
      " 8   tenure                    7043 non-null   int64  \n",
      " 9   phone_service             7043 non-null   object \n",
      " 10  multiple_lines            7043 non-null   object \n",
      " 11  online_security           7043 non-null   object \n",
      " 12  online_backup             7043 non-null   object \n",
      " 13  device_protection         7043 non-null   object \n",
      " 14  tech_support              7043 non-null   object \n",
      " 15  streaming_tv              7043 non-null   object \n",
      " 16  streaming_movies          7043 non-null   object \n",
      " 17  paperless_billing         7043 non-null   object \n",
      " 18  monthly_charges           7043 non-null   float64\n",
      " 19  total_charges             7043 non-null   object \n",
      " 20  churn                     7043 non-null   object \n",
      " 21  contract_type             7043 non-null   object \n",
      " 22  internet_service_type     7043 non-null   object \n",
      " 23  payment_type              7043 non-null   object \n",
      "dtypes: float64(1), int64(5), object(18)\n",
      "memory usage: 1.3+ MB\n"
     ]
    }
   ],
   "source": [
    "#check out data info\n",
    "df.info()"
   ]
  },
  {
   "cell_type": "code",
   "execution_count": 4,
   "id": "743b88f0",
   "metadata": {},
   "outputs": [
    {
     "data": {
      "text/html": [
       "<div>\n",
       "<style scoped>\n",
       "    .dataframe tbody tr th:only-of-type {\n",
       "        vertical-align: middle;\n",
       "    }\n",
       "\n",
       "    .dataframe tbody tr th {\n",
       "        vertical-align: top;\n",
       "    }\n",
       "\n",
       "    .dataframe thead th {\n",
       "        text-align: right;\n",
       "    }\n",
       "</style>\n",
       "<table border=\"1\" class=\"dataframe\">\n",
       "  <thead>\n",
       "    <tr style=\"text-align: right;\">\n",
       "      <th></th>\n",
       "      <th>payment_type_id</th>\n",
       "      <th>internet_service_type_id</th>\n",
       "      <th>contract_type_id</th>\n",
       "      <th>customer_id</th>\n",
       "      <th>gender</th>\n",
       "      <th>senior_citizen</th>\n",
       "      <th>partner</th>\n",
       "      <th>dependents</th>\n",
       "      <th>tenure</th>\n",
       "      <th>phone_service</th>\n",
       "      <th>...</th>\n",
       "      <th>tech_support</th>\n",
       "      <th>streaming_tv</th>\n",
       "      <th>streaming_movies</th>\n",
       "      <th>paperless_billing</th>\n",
       "      <th>monthly_charges</th>\n",
       "      <th>total_charges</th>\n",
       "      <th>churn</th>\n",
       "      <th>contract_type</th>\n",
       "      <th>internet_service_type</th>\n",
       "      <th>payment_type</th>\n",
       "    </tr>\n",
       "  </thead>\n",
       "  <tbody>\n",
       "    <tr>\n",
       "      <th>0</th>\n",
       "      <td>2</td>\n",
       "      <td>1</td>\n",
       "      <td>3</td>\n",
       "      <td>0016-QLJIS</td>\n",
       "      <td>Female</td>\n",
       "      <td>0</td>\n",
       "      <td>Yes</td>\n",
       "      <td>Yes</td>\n",
       "      <td>65</td>\n",
       "      <td>Yes</td>\n",
       "      <td>...</td>\n",
       "      <td>Yes</td>\n",
       "      <td>Yes</td>\n",
       "      <td>Yes</td>\n",
       "      <td>Yes</td>\n",
       "      <td>90.45</td>\n",
       "      <td>5957.9</td>\n",
       "      <td>No</td>\n",
       "      <td>Two year</td>\n",
       "      <td>DSL</td>\n",
       "      <td>Mailed check</td>\n",
       "    </tr>\n",
       "    <tr>\n",
       "      <th>1</th>\n",
       "      <td>4</td>\n",
       "      <td>1</td>\n",
       "      <td>3</td>\n",
       "      <td>0017-DINOC</td>\n",
       "      <td>Male</td>\n",
       "      <td>0</td>\n",
       "      <td>No</td>\n",
       "      <td>No</td>\n",
       "      <td>54</td>\n",
       "      <td>No</td>\n",
       "      <td>...</td>\n",
       "      <td>Yes</td>\n",
       "      <td>Yes</td>\n",
       "      <td>No</td>\n",
       "      <td>No</td>\n",
       "      <td>45.20</td>\n",
       "      <td>2460.55</td>\n",
       "      <td>No</td>\n",
       "      <td>Two year</td>\n",
       "      <td>DSL</td>\n",
       "      <td>Credit card (automatic)</td>\n",
       "    </tr>\n",
       "    <tr>\n",
       "      <th>2</th>\n",
       "      <td>3</td>\n",
       "      <td>1</td>\n",
       "      <td>3</td>\n",
       "      <td>0019-GFNTW</td>\n",
       "      <td>Female</td>\n",
       "      <td>0</td>\n",
       "      <td>No</td>\n",
       "      <td>No</td>\n",
       "      <td>56</td>\n",
       "      <td>No</td>\n",
       "      <td>...</td>\n",
       "      <td>Yes</td>\n",
       "      <td>No</td>\n",
       "      <td>No</td>\n",
       "      <td>No</td>\n",
       "      <td>45.05</td>\n",
       "      <td>2560.1</td>\n",
       "      <td>No</td>\n",
       "      <td>Two year</td>\n",
       "      <td>DSL</td>\n",
       "      <td>Bank transfer (automatic)</td>\n",
       "    </tr>\n",
       "    <tr>\n",
       "      <th>3</th>\n",
       "      <td>4</td>\n",
       "      <td>1</td>\n",
       "      <td>3</td>\n",
       "      <td>0056-EPFBG</td>\n",
       "      <td>Male</td>\n",
       "      <td>0</td>\n",
       "      <td>Yes</td>\n",
       "      <td>Yes</td>\n",
       "      <td>20</td>\n",
       "      <td>No</td>\n",
       "      <td>...</td>\n",
       "      <td>Yes</td>\n",
       "      <td>No</td>\n",
       "      <td>No</td>\n",
       "      <td>Yes</td>\n",
       "      <td>39.40</td>\n",
       "      <td>825.4</td>\n",
       "      <td>No</td>\n",
       "      <td>Two year</td>\n",
       "      <td>DSL</td>\n",
       "      <td>Credit card (automatic)</td>\n",
       "    </tr>\n",
       "    <tr>\n",
       "      <th>4</th>\n",
       "      <td>3</td>\n",
       "      <td>1</td>\n",
       "      <td>3</td>\n",
       "      <td>0078-XZMHT</td>\n",
       "      <td>Male</td>\n",
       "      <td>0</td>\n",
       "      <td>Yes</td>\n",
       "      <td>No</td>\n",
       "      <td>72</td>\n",
       "      <td>Yes</td>\n",
       "      <td>...</td>\n",
       "      <td>Yes</td>\n",
       "      <td>Yes</td>\n",
       "      <td>Yes</td>\n",
       "      <td>Yes</td>\n",
       "      <td>85.15</td>\n",
       "      <td>6316.2</td>\n",
       "      <td>No</td>\n",
       "      <td>Two year</td>\n",
       "      <td>DSL</td>\n",
       "      <td>Bank transfer (automatic)</td>\n",
       "    </tr>\n",
       "  </tbody>\n",
       "</table>\n",
       "<p>5 rows × 24 columns</p>\n",
       "</div>"
      ],
      "text/plain": [
       "   payment_type_id  internet_service_type_id  contract_type_id customer_id  \\\n",
       "0                2                         1                 3  0016-QLJIS   \n",
       "1                4                         1                 3  0017-DINOC   \n",
       "2                3                         1                 3  0019-GFNTW   \n",
       "3                4                         1                 3  0056-EPFBG   \n",
       "4                3                         1                 3  0078-XZMHT   \n",
       "\n",
       "   gender  senior_citizen partner dependents  tenure phone_service  ...  \\\n",
       "0  Female               0     Yes        Yes      65           Yes  ...   \n",
       "1    Male               0      No         No      54            No  ...   \n",
       "2  Female               0      No         No      56            No  ...   \n",
       "3    Male               0     Yes        Yes      20            No  ...   \n",
       "4    Male               0     Yes         No      72           Yes  ...   \n",
       "\n",
       "  tech_support streaming_tv streaming_movies paperless_billing  \\\n",
       "0          Yes          Yes              Yes               Yes   \n",
       "1          Yes          Yes               No                No   \n",
       "2          Yes           No               No                No   \n",
       "3          Yes           No               No               Yes   \n",
       "4          Yes          Yes              Yes               Yes   \n",
       "\n",
       "  monthly_charges total_charges churn contract_type  internet_service_type  \\\n",
       "0           90.45        5957.9    No      Two year                    DSL   \n",
       "1           45.20       2460.55    No      Two year                    DSL   \n",
       "2           45.05        2560.1    No      Two year                    DSL   \n",
       "3           39.40         825.4    No      Two year                    DSL   \n",
       "4           85.15        6316.2    No      Two year                    DSL   \n",
       "\n",
       "                payment_type  \n",
       "0               Mailed check  \n",
       "1    Credit card (automatic)  \n",
       "2  Bank transfer (automatic)  \n",
       "3    Credit card (automatic)  \n",
       "4  Bank transfer (automatic)  \n",
       "\n",
       "[5 rows x 24 columns]"
      ]
     },
     "execution_count": 4,
     "metadata": {},
     "output_type": "execute_result"
    }
   ],
   "source": [
    "#at a glance\n",
    "df.head()"
   ]
  },
  {
   "cell_type": "code",
   "execution_count": 5,
   "id": "bb4208e9",
   "metadata": {},
   "outputs": [],
   "source": [
    "#total_charges column holds object type values. I need these to be numeric values\n",
    "df.total_charges = df.total_charges.str.strip()\n",
    "df = df[df.total_charges != '']\n",
    "df.total_charges = df.total_charges.astype(float)"
   ]
  },
  {
   "cell_type": "code",
   "execution_count": 6,
   "id": "228dc0fd",
   "metadata": {},
   "outputs": [
    {
     "data": {
      "text/plain": [
       "dtype('float64')"
      ]
     },
     "execution_count": 6,
     "metadata": {},
     "output_type": "execute_result"
    }
   ],
   "source": [
    "#confirm my total_charges holds float64 data types\n",
    "df.total_charges.dtype"
   ]
  },
  {
   "cell_type": "code",
   "execution_count": 7,
   "id": "f104ba79",
   "metadata": {},
   "outputs": [],
   "source": [
    "#customer_id is not a useful feature, but it should serve as an index\n",
    "df = df.set_index('customer_id')"
   ]
  },
  {
   "cell_type": "code",
   "execution_count": 8,
   "id": "59099cf1",
   "metadata": {},
   "outputs": [],
   "source": [
    "#payment_type_id, internet_service_type_id and contract_type_id are all redundant \n",
    "df = df.drop(columns = ['payment_type_id', 'internet_service_type_id', 'contract_type_id'])"
   ]
  },
  {
   "cell_type": "code",
   "execution_count": 9,
   "id": "becdd578",
   "metadata": {},
   "outputs": [
    {
     "data": {
      "text/plain": [
       "gender                      2\n",
       "senior_citizen              2\n",
       "partner                     2\n",
       "dependents                  2\n",
       "tenure                     72\n",
       "phone_service               2\n",
       "multiple_lines              3\n",
       "online_security             3\n",
       "online_backup               3\n",
       "device_protection           3\n",
       "tech_support                3\n",
       "streaming_tv                3\n",
       "streaming_movies            3\n",
       "paperless_billing           2\n",
       "monthly_charges          1584\n",
       "total_charges            6530\n",
       "churn                       2\n",
       "contract_type               3\n",
       "internet_service_type       3\n",
       "payment_type                4\n",
       "dtype: int64"
      ]
     },
     "execution_count": 9,
     "metadata": {},
     "output_type": "execute_result"
    }
   ],
   "source": [
    "#what are my categorical values?\n",
    "df.nunique()"
   ]
  },
  {
   "cell_type": "code",
   "execution_count": 10,
   "id": "ce221f0e",
   "metadata": {},
   "outputs": [
    {
     "data": {
      "text/plain": [
       "No     5163\n",
       "Yes    1869\n",
       "Name: churn, dtype: int64"
      ]
     },
     "execution_count": 10,
     "metadata": {},
     "output_type": "execute_result"
    }
   ],
   "source": [
    "df.churn.value_counts()"
   ]
  },
  {
   "cell_type": "code",
   "execution_count": 11,
   "id": "224beb97",
   "metadata": {},
   "outputs": [
    {
     "data": {
      "text/plain": [
       "No                     3472\n",
       "Yes                    2040\n",
       "No internet service    1520\n",
       "Name: tech_support, dtype: int64"
      ]
     },
     "execution_count": 11,
     "metadata": {},
     "output_type": "execute_result"
    }
   ],
   "source": [
    "df.multiple_lines.value_counts()\n",
    "df.tech_support.value_counts()"
   ]
  },
  {
   "cell_type": "code",
   "execution_count": 12,
   "id": "98628b12",
   "metadata": {},
   "outputs": [],
   "source": [
    "#now I want to one-hot encode my categorical variables for later exploration\n",
    "df = df.replace('No', 0).replace('Yes', 1)"
   ]
  },
  {
   "cell_type": "code",
   "execution_count": 13,
   "id": "a3a3a71a",
   "metadata": {},
   "outputs": [
    {
     "data": {
      "text/html": [
       "<div>\n",
       "<style scoped>\n",
       "    .dataframe tbody tr th:only-of-type {\n",
       "        vertical-align: middle;\n",
       "    }\n",
       "\n",
       "    .dataframe tbody tr th {\n",
       "        vertical-align: top;\n",
       "    }\n",
       "\n",
       "    .dataframe thead th {\n",
       "        text-align: right;\n",
       "    }\n",
       "</style>\n",
       "<table border=\"1\" class=\"dataframe\">\n",
       "  <thead>\n",
       "    <tr style=\"text-align: right;\">\n",
       "      <th></th>\n",
       "      <th>gender</th>\n",
       "      <th>senior_citizen</th>\n",
       "      <th>partner</th>\n",
       "      <th>dependents</th>\n",
       "      <th>tenure</th>\n",
       "      <th>phone_service</th>\n",
       "      <th>multiple_lines</th>\n",
       "      <th>online_security</th>\n",
       "      <th>online_backup</th>\n",
       "      <th>device_protection</th>\n",
       "      <th>tech_support</th>\n",
       "      <th>streaming_tv</th>\n",
       "      <th>streaming_movies</th>\n",
       "      <th>paperless_billing</th>\n",
       "      <th>monthly_charges</th>\n",
       "      <th>total_charges</th>\n",
       "      <th>churn</th>\n",
       "      <th>contract_type</th>\n",
       "      <th>internet_service_type</th>\n",
       "      <th>payment_type</th>\n",
       "    </tr>\n",
       "    <tr>\n",
       "      <th>customer_id</th>\n",
       "      <th></th>\n",
       "      <th></th>\n",
       "      <th></th>\n",
       "      <th></th>\n",
       "      <th></th>\n",
       "      <th></th>\n",
       "      <th></th>\n",
       "      <th></th>\n",
       "      <th></th>\n",
       "      <th></th>\n",
       "      <th></th>\n",
       "      <th></th>\n",
       "      <th></th>\n",
       "      <th></th>\n",
       "      <th></th>\n",
       "      <th></th>\n",
       "      <th></th>\n",
       "      <th></th>\n",
       "      <th></th>\n",
       "      <th></th>\n",
       "    </tr>\n",
       "  </thead>\n",
       "  <tbody>\n",
       "    <tr>\n",
       "      <th>9199-PWQVC</th>\n",
       "      <td>Female</td>\n",
       "      <td>0</td>\n",
       "      <td>1</td>\n",
       "      <td>0</td>\n",
       "      <td>63</td>\n",
       "      <td>1</td>\n",
       "      <td>1</td>\n",
       "      <td>1</td>\n",
       "      <td>1</td>\n",
       "      <td>0</td>\n",
       "      <td>0</td>\n",
       "      <td>1</td>\n",
       "      <td>1</td>\n",
       "      <td>1</td>\n",
       "      <td>79.70</td>\n",
       "      <td>4786.15</td>\n",
       "      <td>0</td>\n",
       "      <td>One year</td>\n",
       "      <td>DSL</td>\n",
       "      <td>Credit card (automatic)</td>\n",
       "    </tr>\n",
       "    <tr>\n",
       "      <th>2101-RANCD</th>\n",
       "      <td>Female</td>\n",
       "      <td>0</td>\n",
       "      <td>0</td>\n",
       "      <td>0</td>\n",
       "      <td>55</td>\n",
       "      <td>1</td>\n",
       "      <td>1</td>\n",
       "      <td>0</td>\n",
       "      <td>0</td>\n",
       "      <td>0</td>\n",
       "      <td>0</td>\n",
       "      <td>0</td>\n",
       "      <td>0</td>\n",
       "      <td>1</td>\n",
       "      <td>73.10</td>\n",
       "      <td>4144.90</td>\n",
       "      <td>0</td>\n",
       "      <td>Month-to-month</td>\n",
       "      <td>Fiber optic</td>\n",
       "      <td>Electronic check</td>\n",
       "    </tr>\n",
       "    <tr>\n",
       "      <th>4667-OHGKG</th>\n",
       "      <td>Male</td>\n",
       "      <td>0</td>\n",
       "      <td>0</td>\n",
       "      <td>0</td>\n",
       "      <td>1</td>\n",
       "      <td>1</td>\n",
       "      <td>0</td>\n",
       "      <td>No internet service</td>\n",
       "      <td>No internet service</td>\n",
       "      <td>No internet service</td>\n",
       "      <td>No internet service</td>\n",
       "      <td>No internet service</td>\n",
       "      <td>No internet service</td>\n",
       "      <td>1</td>\n",
       "      <td>19.30</td>\n",
       "      <td>19.30</td>\n",
       "      <td>1</td>\n",
       "      <td>Month-to-month</td>\n",
       "      <td>None</td>\n",
       "      <td>Mailed check</td>\n",
       "    </tr>\n",
       "    <tr>\n",
       "      <th>1271-UODNO</th>\n",
       "      <td>Male</td>\n",
       "      <td>0</td>\n",
       "      <td>0</td>\n",
       "      <td>0</td>\n",
       "      <td>39</td>\n",
       "      <td>1</td>\n",
       "      <td>1</td>\n",
       "      <td>0</td>\n",
       "      <td>0</td>\n",
       "      <td>0</td>\n",
       "      <td>1</td>\n",
       "      <td>0</td>\n",
       "      <td>0</td>\n",
       "      <td>1</td>\n",
       "      <td>53.85</td>\n",
       "      <td>2200.70</td>\n",
       "      <td>0</td>\n",
       "      <td>Two year</td>\n",
       "      <td>DSL</td>\n",
       "      <td>Credit card (automatic)</td>\n",
       "    </tr>\n",
       "  </tbody>\n",
       "</table>\n",
       "</div>"
      ],
      "text/plain": [
       "             gender  senior_citizen  partner  dependents  tenure  \\\n",
       "customer_id                                                        \n",
       "9199-PWQVC   Female               0        1           0      63   \n",
       "2101-RANCD   Female               0        0           0      55   \n",
       "4667-OHGKG     Male               0        0           0       1   \n",
       "1271-UODNO     Male               0        0           0      39   \n",
       "\n",
       "             phone_service multiple_lines      online_security  \\\n",
       "customer_id                                                      \n",
       "9199-PWQVC               1              1                    1   \n",
       "2101-RANCD               1              1                    0   \n",
       "4667-OHGKG               1              0  No internet service   \n",
       "1271-UODNO               1              1                    0   \n",
       "\n",
       "                   online_backup    device_protection         tech_support  \\\n",
       "customer_id                                                                  \n",
       "9199-PWQVC                     1                    0                    0   \n",
       "2101-RANCD                     0                    0                    0   \n",
       "4667-OHGKG   No internet service  No internet service  No internet service   \n",
       "1271-UODNO                     0                    0                    1   \n",
       "\n",
       "                    streaming_tv     streaming_movies  paperless_billing  \\\n",
       "customer_id                                                                \n",
       "9199-PWQVC                     1                    1                  1   \n",
       "2101-RANCD                     0                    0                  1   \n",
       "4667-OHGKG   No internet service  No internet service                  1   \n",
       "1271-UODNO                     0                    0                  1   \n",
       "\n",
       "             monthly_charges  total_charges  churn   contract_type  \\\n",
       "customer_id                                                          \n",
       "9199-PWQVC             79.70        4786.15      0        One year   \n",
       "2101-RANCD             73.10        4144.90      0  Month-to-month   \n",
       "4667-OHGKG             19.30          19.30      1  Month-to-month   \n",
       "1271-UODNO             53.85        2200.70      0        Two year   \n",
       "\n",
       "            internet_service_type             payment_type  \n",
       "customer_id                                                 \n",
       "9199-PWQVC                    DSL  Credit card (automatic)  \n",
       "2101-RANCD            Fiber optic         Electronic check  \n",
       "4667-OHGKG                   None             Mailed check  \n",
       "1271-UODNO                    DSL  Credit card (automatic)  "
      ]
     },
     "execution_count": 13,
     "metadata": {},
     "output_type": "execute_result"
    }
   ],
   "source": [
    "df.sample(4)"
   ]
  },
  {
   "cell_type": "code",
   "execution_count": 14,
   "id": "33853a89",
   "metadata": {},
   "outputs": [],
   "source": [
    "#one-hot encode gender\n",
    "dummy_1 = pd.get_dummies(df['gender'], dummy_na = False, drop_first = True)"
   ]
  },
  {
   "cell_type": "code",
   "execution_count": 15,
   "id": "5228bef8",
   "metadata": {},
   "outputs": [
    {
     "name": "stdout",
     "output_type": "stream",
     "text": [
      "<class 'pandas.core.frame.DataFrame'>\n",
      "Index: 7032 entries, 0016-QLJIS to 9986-BONCE\n",
      "Data columns (total 1 columns):\n",
      " #   Column  Non-Null Count  Dtype\n",
      "---  ------  --------------  -----\n",
      " 0   Male    7032 non-null   uint8\n",
      "dtypes: uint8(1)\n",
      "memory usage: 61.8+ KB\n"
     ]
    }
   ],
   "source": [
    "dummy_1.info()"
   ]
  },
  {
   "cell_type": "code",
   "execution_count": 16,
   "id": "54851d2b",
   "metadata": {},
   "outputs": [],
   "source": [
    "#rename gender column\n",
    "dummy_1.columns = dummy_1.columns.str.replace('Male', 'is_male')"
   ]
  },
  {
   "cell_type": "code",
   "execution_count": 17,
   "id": "ebc84225",
   "metadata": {},
   "outputs": [
    {
     "name": "stdout",
     "output_type": "stream",
     "text": [
      "<class 'pandas.core.frame.DataFrame'>\n",
      "Index: 7032 entries, 0016-QLJIS to 9986-BONCE\n",
      "Data columns (total 1 columns):\n",
      " #   Column   Non-Null Count  Dtype\n",
      "---  ------   --------------  -----\n",
      " 0   is_male  7032 non-null   uint8\n",
      "dtypes: uint8(1)\n",
      "memory usage: 61.8+ KB\n"
     ]
    }
   ],
   "source": [
    "dummy_1.info()"
   ]
  },
  {
   "cell_type": "code",
   "execution_count": 18,
   "id": "2e35b7ce",
   "metadata": {},
   "outputs": [],
   "source": [
    "#more one-hot encoding (get dummy variables for categorical columns with more than 2 unique values)\n",
    "#I don't drop the first because I'm picky on categorical columns with more than 2 unique values\n",
    "categ_col = df.columns[df.nunique() > 2].to_list()\n",
    "dummy_2 = pd.get_dummies(df[categ_col], dummy_na = False, drop_first = False)"
   ]
  },
  {
   "cell_type": "code",
   "execution_count": 19,
   "id": "4040be35",
   "metadata": {},
   "outputs": [
    {
     "data": {
      "text/html": [
       "<div>\n",
       "<style scoped>\n",
       "    .dataframe tbody tr th:only-of-type {\n",
       "        vertical-align: middle;\n",
       "    }\n",
       "\n",
       "    .dataframe tbody tr th {\n",
       "        vertical-align: top;\n",
       "    }\n",
       "\n",
       "    .dataframe thead th {\n",
       "        text-align: right;\n",
       "    }\n",
       "</style>\n",
       "<table border=\"1\" class=\"dataframe\">\n",
       "  <thead>\n",
       "    <tr style=\"text-align: right;\">\n",
       "      <th></th>\n",
       "      <th>tenure</th>\n",
       "      <th>monthly_charges</th>\n",
       "      <th>total_charges</th>\n",
       "      <th>multiple_lines_0</th>\n",
       "      <th>multiple_lines_1</th>\n",
       "      <th>multiple_lines_No phone service</th>\n",
       "      <th>online_security_0</th>\n",
       "      <th>online_security_1</th>\n",
       "      <th>online_security_No internet service</th>\n",
       "      <th>online_backup_0</th>\n",
       "      <th>...</th>\n",
       "      <th>contract_type_Month-to-month</th>\n",
       "      <th>contract_type_One year</th>\n",
       "      <th>contract_type_Two year</th>\n",
       "      <th>internet_service_type_DSL</th>\n",
       "      <th>internet_service_type_Fiber optic</th>\n",
       "      <th>internet_service_type_None</th>\n",
       "      <th>payment_type_Bank transfer (automatic)</th>\n",
       "      <th>payment_type_Credit card (automatic)</th>\n",
       "      <th>payment_type_Electronic check</th>\n",
       "      <th>payment_type_Mailed check</th>\n",
       "    </tr>\n",
       "    <tr>\n",
       "      <th>customer_id</th>\n",
       "      <th></th>\n",
       "      <th></th>\n",
       "      <th></th>\n",
       "      <th></th>\n",
       "      <th></th>\n",
       "      <th></th>\n",
       "      <th></th>\n",
       "      <th></th>\n",
       "      <th></th>\n",
       "      <th></th>\n",
       "      <th></th>\n",
       "      <th></th>\n",
       "      <th></th>\n",
       "      <th></th>\n",
       "      <th></th>\n",
       "      <th></th>\n",
       "      <th></th>\n",
       "      <th></th>\n",
       "      <th></th>\n",
       "      <th></th>\n",
       "      <th></th>\n",
       "    </tr>\n",
       "  </thead>\n",
       "  <tbody>\n",
       "    <tr>\n",
       "      <th>0016-QLJIS</th>\n",
       "      <td>65</td>\n",
       "      <td>90.45</td>\n",
       "      <td>5957.90</td>\n",
       "      <td>0</td>\n",
       "      <td>1</td>\n",
       "      <td>0</td>\n",
       "      <td>0</td>\n",
       "      <td>1</td>\n",
       "      <td>0</td>\n",
       "      <td>0</td>\n",
       "      <td>...</td>\n",
       "      <td>0</td>\n",
       "      <td>0</td>\n",
       "      <td>1</td>\n",
       "      <td>1</td>\n",
       "      <td>0</td>\n",
       "      <td>0</td>\n",
       "      <td>0</td>\n",
       "      <td>0</td>\n",
       "      <td>0</td>\n",
       "      <td>1</td>\n",
       "    </tr>\n",
       "    <tr>\n",
       "      <th>0017-DINOC</th>\n",
       "      <td>54</td>\n",
       "      <td>45.20</td>\n",
       "      <td>2460.55</td>\n",
       "      <td>0</td>\n",
       "      <td>0</td>\n",
       "      <td>1</td>\n",
       "      <td>0</td>\n",
       "      <td>1</td>\n",
       "      <td>0</td>\n",
       "      <td>1</td>\n",
       "      <td>...</td>\n",
       "      <td>0</td>\n",
       "      <td>0</td>\n",
       "      <td>1</td>\n",
       "      <td>1</td>\n",
       "      <td>0</td>\n",
       "      <td>0</td>\n",
       "      <td>0</td>\n",
       "      <td>1</td>\n",
       "      <td>0</td>\n",
       "      <td>0</td>\n",
       "    </tr>\n",
       "    <tr>\n",
       "      <th>0019-GFNTW</th>\n",
       "      <td>56</td>\n",
       "      <td>45.05</td>\n",
       "      <td>2560.10</td>\n",
       "      <td>0</td>\n",
       "      <td>0</td>\n",
       "      <td>1</td>\n",
       "      <td>0</td>\n",
       "      <td>1</td>\n",
       "      <td>0</td>\n",
       "      <td>0</td>\n",
       "      <td>...</td>\n",
       "      <td>0</td>\n",
       "      <td>0</td>\n",
       "      <td>1</td>\n",
       "      <td>1</td>\n",
       "      <td>0</td>\n",
       "      <td>0</td>\n",
       "      <td>1</td>\n",
       "      <td>0</td>\n",
       "      <td>0</td>\n",
       "      <td>0</td>\n",
       "    </tr>\n",
       "    <tr>\n",
       "      <th>0056-EPFBG</th>\n",
       "      <td>20</td>\n",
       "      <td>39.40</td>\n",
       "      <td>825.40</td>\n",
       "      <td>0</td>\n",
       "      <td>0</td>\n",
       "      <td>1</td>\n",
       "      <td>0</td>\n",
       "      <td>1</td>\n",
       "      <td>0</td>\n",
       "      <td>1</td>\n",
       "      <td>...</td>\n",
       "      <td>0</td>\n",
       "      <td>0</td>\n",
       "      <td>1</td>\n",
       "      <td>1</td>\n",
       "      <td>0</td>\n",
       "      <td>0</td>\n",
       "      <td>0</td>\n",
       "      <td>1</td>\n",
       "      <td>0</td>\n",
       "      <td>0</td>\n",
       "    </tr>\n",
       "    <tr>\n",
       "      <th>0078-XZMHT</th>\n",
       "      <td>72</td>\n",
       "      <td>85.15</td>\n",
       "      <td>6316.20</td>\n",
       "      <td>0</td>\n",
       "      <td>1</td>\n",
       "      <td>0</td>\n",
       "      <td>1</td>\n",
       "      <td>0</td>\n",
       "      <td>0</td>\n",
       "      <td>0</td>\n",
       "      <td>...</td>\n",
       "      <td>0</td>\n",
       "      <td>0</td>\n",
       "      <td>1</td>\n",
       "      <td>1</td>\n",
       "      <td>0</td>\n",
       "      <td>0</td>\n",
       "      <td>1</td>\n",
       "      <td>0</td>\n",
       "      <td>0</td>\n",
       "      <td>0</td>\n",
       "    </tr>\n",
       "  </tbody>\n",
       "</table>\n",
       "<p>5 rows × 34 columns</p>\n",
       "</div>"
      ],
      "text/plain": [
       "             tenure  monthly_charges  total_charges  multiple_lines_0  \\\n",
       "customer_id                                                             \n",
       "0016-QLJIS       65            90.45        5957.90                 0   \n",
       "0017-DINOC       54            45.20        2460.55                 0   \n",
       "0019-GFNTW       56            45.05        2560.10                 0   \n",
       "0056-EPFBG       20            39.40         825.40                 0   \n",
       "0078-XZMHT       72            85.15        6316.20                 0   \n",
       "\n",
       "             multiple_lines_1  multiple_lines_No phone service  \\\n",
       "customer_id                                                      \n",
       "0016-QLJIS                  1                                0   \n",
       "0017-DINOC                  0                                1   \n",
       "0019-GFNTW                  0                                1   \n",
       "0056-EPFBG                  0                                1   \n",
       "0078-XZMHT                  1                                0   \n",
       "\n",
       "             online_security_0  online_security_1  \\\n",
       "customer_id                                         \n",
       "0016-QLJIS                   0                  1   \n",
       "0017-DINOC                   0                  1   \n",
       "0019-GFNTW                   0                  1   \n",
       "0056-EPFBG                   0                  1   \n",
       "0078-XZMHT                   1                  0   \n",
       "\n",
       "             online_security_No internet service  online_backup_0  ...  \\\n",
       "customer_id                                                        ...   \n",
       "0016-QLJIS                                     0                0  ...   \n",
       "0017-DINOC                                     0                1  ...   \n",
       "0019-GFNTW                                     0                0  ...   \n",
       "0056-EPFBG                                     0                1  ...   \n",
       "0078-XZMHT                                     0                0  ...   \n",
       "\n",
       "             contract_type_Month-to-month  contract_type_One year  \\\n",
       "customer_id                                                         \n",
       "0016-QLJIS                              0                       0   \n",
       "0017-DINOC                              0                       0   \n",
       "0019-GFNTW                              0                       0   \n",
       "0056-EPFBG                              0                       0   \n",
       "0078-XZMHT                              0                       0   \n",
       "\n",
       "             contract_type_Two year  internet_service_type_DSL  \\\n",
       "customer_id                                                      \n",
       "0016-QLJIS                        1                          1   \n",
       "0017-DINOC                        1                          1   \n",
       "0019-GFNTW                        1                          1   \n",
       "0056-EPFBG                        1                          1   \n",
       "0078-XZMHT                        1                          1   \n",
       "\n",
       "             internet_service_type_Fiber optic  internet_service_type_None  \\\n",
       "customer_id                                                                  \n",
       "0016-QLJIS                                   0                           0   \n",
       "0017-DINOC                                   0                           0   \n",
       "0019-GFNTW                                   0                           0   \n",
       "0056-EPFBG                                   0                           0   \n",
       "0078-XZMHT                                   0                           0   \n",
       "\n",
       "             payment_type_Bank transfer (automatic)  \\\n",
       "customer_id                                           \n",
       "0016-QLJIS                                        0   \n",
       "0017-DINOC                                        0   \n",
       "0019-GFNTW                                        1   \n",
       "0056-EPFBG                                        0   \n",
       "0078-XZMHT                                        1   \n",
       "\n",
       "             payment_type_Credit card (automatic)  \\\n",
       "customer_id                                         \n",
       "0016-QLJIS                                      0   \n",
       "0017-DINOC                                      1   \n",
       "0019-GFNTW                                      0   \n",
       "0056-EPFBG                                      1   \n",
       "0078-XZMHT                                      0   \n",
       "\n",
       "             payment_type_Electronic check  payment_type_Mailed check  \n",
       "customer_id                                                            \n",
       "0016-QLJIS                               0                          1  \n",
       "0017-DINOC                               0                          0  \n",
       "0019-GFNTW                               0                          0  \n",
       "0056-EPFBG                               0                          0  \n",
       "0078-XZMHT                               0                          0  \n",
       "\n",
       "[5 rows x 34 columns]"
      ]
     },
     "execution_count": 19,
     "metadata": {},
     "output_type": "execute_result"
    }
   ],
   "source": [
    "#make sure my dummy dataframe looks good\n",
    "dummy_2.head()"
   ]
  },
  {
   "cell_type": "code",
   "execution_count": 20,
   "id": "dfee88f7",
   "metadata": {},
   "outputs": [
    {
     "name": "stdout",
     "output_type": "stream",
     "text": [
      "<class 'pandas.core.frame.DataFrame'>\n",
      "Index: 7032 entries, 0016-QLJIS to 9986-BONCE\n",
      "Data columns (total 34 columns):\n",
      " #   Column                                  Non-Null Count  Dtype  \n",
      "---  ------                                  --------------  -----  \n",
      " 0   tenure                                  7032 non-null   int64  \n",
      " 1   monthly_charges                         7032 non-null   float64\n",
      " 2   total_charges                           7032 non-null   float64\n",
      " 3   multiple_lines_0                        7032 non-null   uint8  \n",
      " 4   multiple_lines_1                        7032 non-null   uint8  \n",
      " 5   multiple_lines_No phone service         7032 non-null   uint8  \n",
      " 6   online_security_0                       7032 non-null   uint8  \n",
      " 7   online_security_1                       7032 non-null   uint8  \n",
      " 8   online_security_No internet service     7032 non-null   uint8  \n",
      " 9   online_backup_0                         7032 non-null   uint8  \n",
      " 10  online_backup_1                         7032 non-null   uint8  \n",
      " 11  online_backup_No internet service       7032 non-null   uint8  \n",
      " 12  device_protection_0                     7032 non-null   uint8  \n",
      " 13  device_protection_1                     7032 non-null   uint8  \n",
      " 14  device_protection_No internet service   7032 non-null   uint8  \n",
      " 15  tech_support_0                          7032 non-null   uint8  \n",
      " 16  tech_support_1                          7032 non-null   uint8  \n",
      " 17  tech_support_No internet service        7032 non-null   uint8  \n",
      " 18  streaming_tv_0                          7032 non-null   uint8  \n",
      " 19  streaming_tv_1                          7032 non-null   uint8  \n",
      " 20  streaming_tv_No internet service        7032 non-null   uint8  \n",
      " 21  streaming_movies_0                      7032 non-null   uint8  \n",
      " 22  streaming_movies_1                      7032 non-null   uint8  \n",
      " 23  streaming_movies_No internet service    7032 non-null   uint8  \n",
      " 24  contract_type_Month-to-month            7032 non-null   uint8  \n",
      " 25  contract_type_One year                  7032 non-null   uint8  \n",
      " 26  contract_type_Two year                  7032 non-null   uint8  \n",
      " 27  internet_service_type_DSL               7032 non-null   uint8  \n",
      " 28  internet_service_type_Fiber optic       7032 non-null   uint8  \n",
      " 29  internet_service_type_None              7032 non-null   uint8  \n",
      " 30  payment_type_Bank transfer (automatic)  7032 non-null   uint8  \n",
      " 31  payment_type_Credit card (automatic)    7032 non-null   uint8  \n",
      " 32  payment_type_Electronic check           7032 non-null   uint8  \n",
      " 33  payment_type_Mailed check               7032 non-null   uint8  \n",
      "dtypes: float64(2), int64(1), uint8(31)\n",
      "memory usage: 432.6+ KB\n"
     ]
    }
   ],
   "source": [
    "#summary view\n",
    "dummy_2.info()"
   ]
  },
  {
   "cell_type": "code",
   "execution_count": 21,
   "id": "5cdb7f78",
   "metadata": {},
   "outputs": [],
   "source": [
    "#clean up column names\n",
    "dummy_2.columns = dummy_2.columns.str.lower().str.replace(' ', '_').str.replace('_1', '').str.replace('_type', '').str.replace('no_internet_service', 'no_internet')"
   ]
  },
  {
   "cell_type": "code",
   "execution_count": 22,
   "id": "9b154f2b",
   "metadata": {},
   "outputs": [
    {
     "data": {
      "text/html": [
       "<div>\n",
       "<style scoped>\n",
       "    .dataframe tbody tr th:only-of-type {\n",
       "        vertical-align: middle;\n",
       "    }\n",
       "\n",
       "    .dataframe tbody tr th {\n",
       "        vertical-align: top;\n",
       "    }\n",
       "\n",
       "    .dataframe thead th {\n",
       "        text-align: right;\n",
       "    }\n",
       "</style>\n",
       "<table border=\"1\" class=\"dataframe\">\n",
       "  <thead>\n",
       "    <tr style=\"text-align: right;\">\n",
       "      <th></th>\n",
       "      <th>tenure</th>\n",
       "      <th>monthly_charges</th>\n",
       "      <th>total_charges</th>\n",
       "      <th>multiple_lines_0</th>\n",
       "      <th>multiple_lines</th>\n",
       "      <th>multiple_lines_no_phone_service</th>\n",
       "      <th>online_security_0</th>\n",
       "      <th>online_security</th>\n",
       "      <th>online_security_no_internet</th>\n",
       "      <th>online_backup_0</th>\n",
       "      <th>...</th>\n",
       "      <th>contract_month-to-month</th>\n",
       "      <th>contract_one_year</th>\n",
       "      <th>contract_two_year</th>\n",
       "      <th>internet_service_dsl</th>\n",
       "      <th>internet_service_fiber_optic</th>\n",
       "      <th>internet_service_none</th>\n",
       "      <th>payment_bank_transfer_(automatic)</th>\n",
       "      <th>payment_credit_card_(automatic)</th>\n",
       "      <th>payment_electronic_check</th>\n",
       "      <th>payment_mailed_check</th>\n",
       "    </tr>\n",
       "    <tr>\n",
       "      <th>customer_id</th>\n",
       "      <th></th>\n",
       "      <th></th>\n",
       "      <th></th>\n",
       "      <th></th>\n",
       "      <th></th>\n",
       "      <th></th>\n",
       "      <th></th>\n",
       "      <th></th>\n",
       "      <th></th>\n",
       "      <th></th>\n",
       "      <th></th>\n",
       "      <th></th>\n",
       "      <th></th>\n",
       "      <th></th>\n",
       "      <th></th>\n",
       "      <th></th>\n",
       "      <th></th>\n",
       "      <th></th>\n",
       "      <th></th>\n",
       "      <th></th>\n",
       "      <th></th>\n",
       "    </tr>\n",
       "  </thead>\n",
       "  <tbody>\n",
       "    <tr>\n",
       "      <th>0016-QLJIS</th>\n",
       "      <td>65</td>\n",
       "      <td>90.45</td>\n",
       "      <td>5957.90</td>\n",
       "      <td>0</td>\n",
       "      <td>1</td>\n",
       "      <td>0</td>\n",
       "      <td>0</td>\n",
       "      <td>1</td>\n",
       "      <td>0</td>\n",
       "      <td>0</td>\n",
       "      <td>...</td>\n",
       "      <td>0</td>\n",
       "      <td>0</td>\n",
       "      <td>1</td>\n",
       "      <td>1</td>\n",
       "      <td>0</td>\n",
       "      <td>0</td>\n",
       "      <td>0</td>\n",
       "      <td>0</td>\n",
       "      <td>0</td>\n",
       "      <td>1</td>\n",
       "    </tr>\n",
       "    <tr>\n",
       "      <th>0017-DINOC</th>\n",
       "      <td>54</td>\n",
       "      <td>45.20</td>\n",
       "      <td>2460.55</td>\n",
       "      <td>0</td>\n",
       "      <td>0</td>\n",
       "      <td>1</td>\n",
       "      <td>0</td>\n",
       "      <td>1</td>\n",
       "      <td>0</td>\n",
       "      <td>1</td>\n",
       "      <td>...</td>\n",
       "      <td>0</td>\n",
       "      <td>0</td>\n",
       "      <td>1</td>\n",
       "      <td>1</td>\n",
       "      <td>0</td>\n",
       "      <td>0</td>\n",
       "      <td>0</td>\n",
       "      <td>1</td>\n",
       "      <td>0</td>\n",
       "      <td>0</td>\n",
       "    </tr>\n",
       "    <tr>\n",
       "      <th>0019-GFNTW</th>\n",
       "      <td>56</td>\n",
       "      <td>45.05</td>\n",
       "      <td>2560.10</td>\n",
       "      <td>0</td>\n",
       "      <td>0</td>\n",
       "      <td>1</td>\n",
       "      <td>0</td>\n",
       "      <td>1</td>\n",
       "      <td>0</td>\n",
       "      <td>0</td>\n",
       "      <td>...</td>\n",
       "      <td>0</td>\n",
       "      <td>0</td>\n",
       "      <td>1</td>\n",
       "      <td>1</td>\n",
       "      <td>0</td>\n",
       "      <td>0</td>\n",
       "      <td>1</td>\n",
       "      <td>0</td>\n",
       "      <td>0</td>\n",
       "      <td>0</td>\n",
       "    </tr>\n",
       "    <tr>\n",
       "      <th>0056-EPFBG</th>\n",
       "      <td>20</td>\n",
       "      <td>39.40</td>\n",
       "      <td>825.40</td>\n",
       "      <td>0</td>\n",
       "      <td>0</td>\n",
       "      <td>1</td>\n",
       "      <td>0</td>\n",
       "      <td>1</td>\n",
       "      <td>0</td>\n",
       "      <td>1</td>\n",
       "      <td>...</td>\n",
       "      <td>0</td>\n",
       "      <td>0</td>\n",
       "      <td>1</td>\n",
       "      <td>1</td>\n",
       "      <td>0</td>\n",
       "      <td>0</td>\n",
       "      <td>0</td>\n",
       "      <td>1</td>\n",
       "      <td>0</td>\n",
       "      <td>0</td>\n",
       "    </tr>\n",
       "    <tr>\n",
       "      <th>0078-XZMHT</th>\n",
       "      <td>72</td>\n",
       "      <td>85.15</td>\n",
       "      <td>6316.20</td>\n",
       "      <td>0</td>\n",
       "      <td>1</td>\n",
       "      <td>0</td>\n",
       "      <td>1</td>\n",
       "      <td>0</td>\n",
       "      <td>0</td>\n",
       "      <td>0</td>\n",
       "      <td>...</td>\n",
       "      <td>0</td>\n",
       "      <td>0</td>\n",
       "      <td>1</td>\n",
       "      <td>1</td>\n",
       "      <td>0</td>\n",
       "      <td>0</td>\n",
       "      <td>1</td>\n",
       "      <td>0</td>\n",
       "      <td>0</td>\n",
       "      <td>0</td>\n",
       "    </tr>\n",
       "  </tbody>\n",
       "</table>\n",
       "<p>5 rows × 34 columns</p>\n",
       "</div>"
      ],
      "text/plain": [
       "             tenure  monthly_charges  total_charges  multiple_lines_0  \\\n",
       "customer_id                                                             \n",
       "0016-QLJIS       65            90.45        5957.90                 0   \n",
       "0017-DINOC       54            45.20        2460.55                 0   \n",
       "0019-GFNTW       56            45.05        2560.10                 0   \n",
       "0056-EPFBG       20            39.40         825.40                 0   \n",
       "0078-XZMHT       72            85.15        6316.20                 0   \n",
       "\n",
       "             multiple_lines  multiple_lines_no_phone_service  \\\n",
       "customer_id                                                    \n",
       "0016-QLJIS                1                                0   \n",
       "0017-DINOC                0                                1   \n",
       "0019-GFNTW                0                                1   \n",
       "0056-EPFBG                0                                1   \n",
       "0078-XZMHT                1                                0   \n",
       "\n",
       "             online_security_0  online_security  online_security_no_internet  \\\n",
       "customer_id                                                                    \n",
       "0016-QLJIS                   0                1                            0   \n",
       "0017-DINOC                   0                1                            0   \n",
       "0019-GFNTW                   0                1                            0   \n",
       "0056-EPFBG                   0                1                            0   \n",
       "0078-XZMHT                   1                0                            0   \n",
       "\n",
       "             online_backup_0  ...  contract_month-to-month  contract_one_year  \\\n",
       "customer_id                   ...                                               \n",
       "0016-QLJIS                 0  ...                        0                  0   \n",
       "0017-DINOC                 1  ...                        0                  0   \n",
       "0019-GFNTW                 0  ...                        0                  0   \n",
       "0056-EPFBG                 1  ...                        0                  0   \n",
       "0078-XZMHT                 0  ...                        0                  0   \n",
       "\n",
       "             contract_two_year  internet_service_dsl  \\\n",
       "customer_id                                            \n",
       "0016-QLJIS                   1                     1   \n",
       "0017-DINOC                   1                     1   \n",
       "0019-GFNTW                   1                     1   \n",
       "0056-EPFBG                   1                     1   \n",
       "0078-XZMHT                   1                     1   \n",
       "\n",
       "             internet_service_fiber_optic  internet_service_none  \\\n",
       "customer_id                                                        \n",
       "0016-QLJIS                              0                      0   \n",
       "0017-DINOC                              0                      0   \n",
       "0019-GFNTW                              0                      0   \n",
       "0056-EPFBG                              0                      0   \n",
       "0078-XZMHT                              0                      0   \n",
       "\n",
       "             payment_bank_transfer_(automatic)  \\\n",
       "customer_id                                      \n",
       "0016-QLJIS                                   0   \n",
       "0017-DINOC                                   0   \n",
       "0019-GFNTW                                   1   \n",
       "0056-EPFBG                                   0   \n",
       "0078-XZMHT                                   1   \n",
       "\n",
       "             payment_credit_card_(automatic)  payment_electronic_check  \\\n",
       "customer_id                                                              \n",
       "0016-QLJIS                                 0                         0   \n",
       "0017-DINOC                                 1                         0   \n",
       "0019-GFNTW                                 0                         0   \n",
       "0056-EPFBG                                 1                         0   \n",
       "0078-XZMHT                                 0                         0   \n",
       "\n",
       "             payment_mailed_check  \n",
       "customer_id                        \n",
       "0016-QLJIS                      1  \n",
       "0017-DINOC                      0  \n",
       "0019-GFNTW                      0  \n",
       "0056-EPFBG                      0  \n",
       "0078-XZMHT                      0  \n",
       "\n",
       "[5 rows x 34 columns]"
      ]
     },
     "execution_count": 22,
     "metadata": {},
     "output_type": "execute_result"
    }
   ],
   "source": [
    "#What does it look like now?\n",
    "dummy_2.head()"
   ]
  },
  {
   "cell_type": "code",
   "execution_count": 23,
   "id": "b66e4508",
   "metadata": {},
   "outputs": [],
   "source": [
    "#I do not want these first dummy columns\n",
    "dummy_drop = dummy_2.columns[dummy_2.columns.str.contains('_0')].to_list()\n",
    "dummy_drop_again = dummy_2.columns[dummy_2.columns.str.contains('_no_')].to_list()\n",
    "dummy_drop.extend(dummy_drop_again)\n",
    "dummy_2 = dummy_2.drop(columns = dummy_drop)"
   ]
  },
  {
   "cell_type": "code",
   "execution_count": 24,
   "id": "ca6fe22b",
   "metadata": {},
   "outputs": [
    {
     "name": "stdout",
     "output_type": "stream",
     "text": [
      "<class 'pandas.core.frame.DataFrame'>\n",
      "Index: 7032 entries, 0016-QLJIS to 9986-BONCE\n",
      "Data columns (total 20 columns):\n",
      " #   Column                             Non-Null Count  Dtype  \n",
      "---  ------                             --------------  -----  \n",
      " 0   tenure                             7032 non-null   int64  \n",
      " 1   monthly_charges                    7032 non-null   float64\n",
      " 2   total_charges                      7032 non-null   float64\n",
      " 3   multiple_lines                     7032 non-null   uint8  \n",
      " 4   online_security                    7032 non-null   uint8  \n",
      " 5   online_backup                      7032 non-null   uint8  \n",
      " 6   device_protection                  7032 non-null   uint8  \n",
      " 7   tech_support                       7032 non-null   uint8  \n",
      " 8   streaming_tv                       7032 non-null   uint8  \n",
      " 9   streaming_movies                   7032 non-null   uint8  \n",
      " 10  contract_month-to-month            7032 non-null   uint8  \n",
      " 11  contract_one_year                  7032 non-null   uint8  \n",
      " 12  contract_two_year                  7032 non-null   uint8  \n",
      " 13  internet_service_dsl               7032 non-null   uint8  \n",
      " 14  internet_service_fiber_optic       7032 non-null   uint8  \n",
      " 15  internet_service_none              7032 non-null   uint8  \n",
      " 16  payment_bank_transfer_(automatic)  7032 non-null   uint8  \n",
      " 17  payment_credit_card_(automatic)    7032 non-null   uint8  \n",
      " 18  payment_electronic_check           7032 non-null   uint8  \n",
      " 19  payment_mailed_check               7032 non-null   uint8  \n",
      "dtypes: float64(2), int64(1), uint8(17)\n",
      "memory usage: 336.5+ KB\n"
     ]
    }
   ],
   "source": [
    "#how are we doing so far?\n",
    "dummy_2.info()"
   ]
  },
  {
   "cell_type": "code",
   "execution_count": 25,
   "id": "8eb6ccb6",
   "metadata": {},
   "outputs": [
    {
     "data": {
      "text/html": [
       "<div>\n",
       "<style scoped>\n",
       "    .dataframe tbody tr th:only-of-type {\n",
       "        vertical-align: middle;\n",
       "    }\n",
       "\n",
       "    .dataframe tbody tr th {\n",
       "        vertical-align: top;\n",
       "    }\n",
       "\n",
       "    .dataframe thead th {\n",
       "        text-align: right;\n",
       "    }\n",
       "</style>\n",
       "<table border=\"1\" class=\"dataframe\">\n",
       "  <thead>\n",
       "    <tr style=\"text-align: right;\">\n",
       "      <th></th>\n",
       "      <th>tenure</th>\n",
       "      <th>monthly_charges</th>\n",
       "      <th>total_charges</th>\n",
       "      <th>multiple_lines</th>\n",
       "      <th>online_security</th>\n",
       "      <th>online_backup</th>\n",
       "      <th>device_protection</th>\n",
       "      <th>tech_support</th>\n",
       "      <th>streaming_tv</th>\n",
       "      <th>streaming_movies</th>\n",
       "      <th>contract_month-to-month</th>\n",
       "      <th>contract_one_year</th>\n",
       "      <th>contract_two_year</th>\n",
       "      <th>internet_service_dsl</th>\n",
       "      <th>internet_service_fiber_optic</th>\n",
       "      <th>internet_service_none</th>\n",
       "      <th>payment_bank_transfer_(automatic)</th>\n",
       "      <th>payment_credit_card_(automatic)</th>\n",
       "      <th>payment_electronic_check</th>\n",
       "      <th>payment_mailed_check</th>\n",
       "    </tr>\n",
       "    <tr>\n",
       "      <th>customer_id</th>\n",
       "      <th></th>\n",
       "      <th></th>\n",
       "      <th></th>\n",
       "      <th></th>\n",
       "      <th></th>\n",
       "      <th></th>\n",
       "      <th></th>\n",
       "      <th></th>\n",
       "      <th></th>\n",
       "      <th></th>\n",
       "      <th></th>\n",
       "      <th></th>\n",
       "      <th></th>\n",
       "      <th></th>\n",
       "      <th></th>\n",
       "      <th></th>\n",
       "      <th></th>\n",
       "      <th></th>\n",
       "      <th></th>\n",
       "      <th></th>\n",
       "    </tr>\n",
       "  </thead>\n",
       "  <tbody>\n",
       "    <tr>\n",
       "      <th>0016-QLJIS</th>\n",
       "      <td>65</td>\n",
       "      <td>90.45</td>\n",
       "      <td>5957.90</td>\n",
       "      <td>1</td>\n",
       "      <td>1</td>\n",
       "      <td>1</td>\n",
       "      <td>1</td>\n",
       "      <td>1</td>\n",
       "      <td>1</td>\n",
       "      <td>1</td>\n",
       "      <td>0</td>\n",
       "      <td>0</td>\n",
       "      <td>1</td>\n",
       "      <td>1</td>\n",
       "      <td>0</td>\n",
       "      <td>0</td>\n",
       "      <td>0</td>\n",
       "      <td>0</td>\n",
       "      <td>0</td>\n",
       "      <td>1</td>\n",
       "    </tr>\n",
       "    <tr>\n",
       "      <th>0017-DINOC</th>\n",
       "      <td>54</td>\n",
       "      <td>45.20</td>\n",
       "      <td>2460.55</td>\n",
       "      <td>0</td>\n",
       "      <td>1</td>\n",
       "      <td>0</td>\n",
       "      <td>0</td>\n",
       "      <td>1</td>\n",
       "      <td>1</td>\n",
       "      <td>0</td>\n",
       "      <td>0</td>\n",
       "      <td>0</td>\n",
       "      <td>1</td>\n",
       "      <td>1</td>\n",
       "      <td>0</td>\n",
       "      <td>0</td>\n",
       "      <td>0</td>\n",
       "      <td>1</td>\n",
       "      <td>0</td>\n",
       "      <td>0</td>\n",
       "    </tr>\n",
       "    <tr>\n",
       "      <th>0019-GFNTW</th>\n",
       "      <td>56</td>\n",
       "      <td>45.05</td>\n",
       "      <td>2560.10</td>\n",
       "      <td>0</td>\n",
       "      <td>1</td>\n",
       "      <td>1</td>\n",
       "      <td>1</td>\n",
       "      <td>1</td>\n",
       "      <td>0</td>\n",
       "      <td>0</td>\n",
       "      <td>0</td>\n",
       "      <td>0</td>\n",
       "      <td>1</td>\n",
       "      <td>1</td>\n",
       "      <td>0</td>\n",
       "      <td>0</td>\n",
       "      <td>1</td>\n",
       "      <td>0</td>\n",
       "      <td>0</td>\n",
       "      <td>0</td>\n",
       "    </tr>\n",
       "    <tr>\n",
       "      <th>0056-EPFBG</th>\n",
       "      <td>20</td>\n",
       "      <td>39.40</td>\n",
       "      <td>825.40</td>\n",
       "      <td>0</td>\n",
       "      <td>1</td>\n",
       "      <td>0</td>\n",
       "      <td>1</td>\n",
       "      <td>1</td>\n",
       "      <td>0</td>\n",
       "      <td>0</td>\n",
       "      <td>0</td>\n",
       "      <td>0</td>\n",
       "      <td>1</td>\n",
       "      <td>1</td>\n",
       "      <td>0</td>\n",
       "      <td>0</td>\n",
       "      <td>0</td>\n",
       "      <td>1</td>\n",
       "      <td>0</td>\n",
       "      <td>0</td>\n",
       "    </tr>\n",
       "    <tr>\n",
       "      <th>0078-XZMHT</th>\n",
       "      <td>72</td>\n",
       "      <td>85.15</td>\n",
       "      <td>6316.20</td>\n",
       "      <td>1</td>\n",
       "      <td>0</td>\n",
       "      <td>1</td>\n",
       "      <td>1</td>\n",
       "      <td>1</td>\n",
       "      <td>1</td>\n",
       "      <td>1</td>\n",
       "      <td>0</td>\n",
       "      <td>0</td>\n",
       "      <td>1</td>\n",
       "      <td>1</td>\n",
       "      <td>0</td>\n",
       "      <td>0</td>\n",
       "      <td>1</td>\n",
       "      <td>0</td>\n",
       "      <td>0</td>\n",
       "      <td>0</td>\n",
       "    </tr>\n",
       "  </tbody>\n",
       "</table>\n",
       "</div>"
      ],
      "text/plain": [
       "             tenure  monthly_charges  total_charges  multiple_lines  \\\n",
       "customer_id                                                           \n",
       "0016-QLJIS       65            90.45        5957.90               1   \n",
       "0017-DINOC       54            45.20        2460.55               0   \n",
       "0019-GFNTW       56            45.05        2560.10               0   \n",
       "0056-EPFBG       20            39.40         825.40               0   \n",
       "0078-XZMHT       72            85.15        6316.20               1   \n",
       "\n",
       "             online_security  online_backup  device_protection  tech_support  \\\n",
       "customer_id                                                                    \n",
       "0016-QLJIS                 1              1                  1             1   \n",
       "0017-DINOC                 1              0                  0             1   \n",
       "0019-GFNTW                 1              1                  1             1   \n",
       "0056-EPFBG                 1              0                  1             1   \n",
       "0078-XZMHT                 0              1                  1             1   \n",
       "\n",
       "             streaming_tv  streaming_movies  contract_month-to-month  \\\n",
       "customer_id                                                            \n",
       "0016-QLJIS              1                 1                        0   \n",
       "0017-DINOC              1                 0                        0   \n",
       "0019-GFNTW              0                 0                        0   \n",
       "0056-EPFBG              0                 0                        0   \n",
       "0078-XZMHT              1                 1                        0   \n",
       "\n",
       "             contract_one_year  contract_two_year  internet_service_dsl  \\\n",
       "customer_id                                                               \n",
       "0016-QLJIS                   0                  1                     1   \n",
       "0017-DINOC                   0                  1                     1   \n",
       "0019-GFNTW                   0                  1                     1   \n",
       "0056-EPFBG                   0                  1                     1   \n",
       "0078-XZMHT                   0                  1                     1   \n",
       "\n",
       "             internet_service_fiber_optic  internet_service_none  \\\n",
       "customer_id                                                        \n",
       "0016-QLJIS                              0                      0   \n",
       "0017-DINOC                              0                      0   \n",
       "0019-GFNTW                              0                      0   \n",
       "0056-EPFBG                              0                      0   \n",
       "0078-XZMHT                              0                      0   \n",
       "\n",
       "             payment_bank_transfer_(automatic)  \\\n",
       "customer_id                                      \n",
       "0016-QLJIS                                   0   \n",
       "0017-DINOC                                   0   \n",
       "0019-GFNTW                                   1   \n",
       "0056-EPFBG                                   0   \n",
       "0078-XZMHT                                   1   \n",
       "\n",
       "             payment_credit_card_(automatic)  payment_electronic_check  \\\n",
       "customer_id                                                              \n",
       "0016-QLJIS                                 0                         0   \n",
       "0017-DINOC                                 1                         0   \n",
       "0019-GFNTW                                 0                         0   \n",
       "0056-EPFBG                                 1                         0   \n",
       "0078-XZMHT                                 0                         0   \n",
       "\n",
       "             payment_mailed_check  \n",
       "customer_id                        \n",
       "0016-QLJIS                      1  \n",
       "0017-DINOC                      0  \n",
       "0019-GFNTW                      0  \n",
       "0056-EPFBG                      0  \n",
       "0078-XZMHT                      0  "
      ]
     },
     "execution_count": 25,
     "metadata": {},
     "output_type": "execute_result"
    }
   ],
   "source": [
    "#preview\n",
    "dummy_2.head()"
   ]
  },
  {
   "cell_type": "code",
   "execution_count": 26,
   "id": "218c4f7a",
   "metadata": {},
   "outputs": [],
   "source": [
    "#I want easier column names\n",
    "dummy_2 = dummy_2.rename(columns = {\n",
    "    'contract_month-to-month': 'm2m_contract',\n",
    "    'contract_one_year': 'one_year_contract',\n",
    "    'contract_two_year': 'two_year_contract',\n",
    "    'internet_service_dsl': 'DSL_internet',\n",
    "    'internet_service_fiber_optic': 'Fiber_internet',\n",
    "    'internet_service_none': 'no_internet',\n",
    "    'payment_bank_transfer_(automatic)': 'bank_auto_payment',\n",
    "    'payment_credit_card_(automatic)': 'card_auto_payment',\n",
    "    'payment_electronic_check': 'electronic_check_payment',\n",
    "    'payment_mailed_check': 'mailed_check_payment'\n",
    "})"
   ]
  },
  {
   "cell_type": "code",
   "execution_count": 27,
   "id": "fd7c5ae8",
   "metadata": {},
   "outputs": [
    {
     "name": "stdout",
     "output_type": "stream",
     "text": [
      "<class 'pandas.core.frame.DataFrame'>\n",
      "Index: 7032 entries, 0016-QLJIS to 9986-BONCE\n",
      "Data columns (total 20 columns):\n",
      " #   Column                    Non-Null Count  Dtype  \n",
      "---  ------                    --------------  -----  \n",
      " 0   tenure                    7032 non-null   int64  \n",
      " 1   monthly_charges           7032 non-null   float64\n",
      " 2   total_charges             7032 non-null   float64\n",
      " 3   multiple_lines            7032 non-null   uint8  \n",
      " 4   online_security           7032 non-null   uint8  \n",
      " 5   online_backup             7032 non-null   uint8  \n",
      " 6   device_protection         7032 non-null   uint8  \n",
      " 7   tech_support              7032 non-null   uint8  \n",
      " 8   streaming_tv              7032 non-null   uint8  \n",
      " 9   streaming_movies          7032 non-null   uint8  \n",
      " 10  m2m_contract              7032 non-null   uint8  \n",
      " 11  one_year_contract         7032 non-null   uint8  \n",
      " 12  two_year_contract         7032 non-null   uint8  \n",
      " 13  DSL_internet              7032 non-null   uint8  \n",
      " 14  Fiber_internet            7032 non-null   uint8  \n",
      " 15  no_internet               7032 non-null   uint8  \n",
      " 16  bank_auto_payment         7032 non-null   uint8  \n",
      " 17  card_auto_payment         7032 non-null   uint8  \n",
      " 18  electronic_check_payment  7032 non-null   uint8  \n",
      " 19  mailed_check_payment      7032 non-null   uint8  \n",
      "dtypes: float64(2), int64(1), uint8(17)\n",
      "memory usage: 336.5+ KB\n"
     ]
    }
   ],
   "source": [
    "#check column names\n",
    "dummy_2.info()"
   ]
  },
  {
   "cell_type": "code",
   "execution_count": 28,
   "id": "b1a704ff",
   "metadata": {},
   "outputs": [],
   "source": [
    "#drop dummied categorical columns from original df\n",
    "df = df.drop(columns = categ_col)\n",
    "df = df.drop(columns = 'gender')"
   ]
  },
  {
   "cell_type": "code",
   "execution_count": 29,
   "id": "fb05c423",
   "metadata": {},
   "outputs": [
    {
     "name": "stdout",
     "output_type": "stream",
     "text": [
      "<class 'pandas.core.frame.DataFrame'>\n",
      "Index: 7032 entries, 0016-QLJIS to 9986-BONCE\n",
      "Data columns (total 6 columns):\n",
      " #   Column             Non-Null Count  Dtype\n",
      "---  ------             --------------  -----\n",
      " 0   senior_citizen     7032 non-null   int64\n",
      " 1   partner            7032 non-null   int64\n",
      " 2   dependents         7032 non-null   int64\n",
      " 3   phone_service      7032 non-null   int64\n",
      " 4   paperless_billing  7032 non-null   int64\n",
      " 5   churn              7032 non-null   int64\n",
      "dtypes: int64(6)\n",
      "memory usage: 384.6+ KB\n"
     ]
    }
   ],
   "source": [
    "#check out original df\n",
    "df.info()"
   ]
  },
  {
   "cell_type": "code",
   "execution_count": 30,
   "id": "71e40280",
   "metadata": {},
   "outputs": [],
   "source": [
    "#concatenate resulting dataframes\n",
    "telco = pd.concat([dummy_1, df, dummy_2], axis = 1)"
   ]
  },
  {
   "cell_type": "code",
   "execution_count": 31,
   "id": "e9877f88",
   "metadata": {},
   "outputs": [
    {
     "data": {
      "text/html": [
       "<div>\n",
       "<style scoped>\n",
       "    .dataframe tbody tr th:only-of-type {\n",
       "        vertical-align: middle;\n",
       "    }\n",
       "\n",
       "    .dataframe tbody tr th {\n",
       "        vertical-align: top;\n",
       "    }\n",
       "\n",
       "    .dataframe thead th {\n",
       "        text-align: right;\n",
       "    }\n",
       "</style>\n",
       "<table border=\"1\" class=\"dataframe\">\n",
       "  <thead>\n",
       "    <tr style=\"text-align: right;\">\n",
       "      <th></th>\n",
       "      <th>is_male</th>\n",
       "      <th>senior_citizen</th>\n",
       "      <th>partner</th>\n",
       "      <th>dependents</th>\n",
       "      <th>phone_service</th>\n",
       "      <th>paperless_billing</th>\n",
       "      <th>churn</th>\n",
       "      <th>tenure</th>\n",
       "      <th>monthly_charges</th>\n",
       "      <th>total_charges</th>\n",
       "      <th>...</th>\n",
       "      <th>m2m_contract</th>\n",
       "      <th>one_year_contract</th>\n",
       "      <th>two_year_contract</th>\n",
       "      <th>DSL_internet</th>\n",
       "      <th>Fiber_internet</th>\n",
       "      <th>no_internet</th>\n",
       "      <th>bank_auto_payment</th>\n",
       "      <th>card_auto_payment</th>\n",
       "      <th>electronic_check_payment</th>\n",
       "      <th>mailed_check_payment</th>\n",
       "    </tr>\n",
       "    <tr>\n",
       "      <th>customer_id</th>\n",
       "      <th></th>\n",
       "      <th></th>\n",
       "      <th></th>\n",
       "      <th></th>\n",
       "      <th></th>\n",
       "      <th></th>\n",
       "      <th></th>\n",
       "      <th></th>\n",
       "      <th></th>\n",
       "      <th></th>\n",
       "      <th></th>\n",
       "      <th></th>\n",
       "      <th></th>\n",
       "      <th></th>\n",
       "      <th></th>\n",
       "      <th></th>\n",
       "      <th></th>\n",
       "      <th></th>\n",
       "      <th></th>\n",
       "      <th></th>\n",
       "      <th></th>\n",
       "    </tr>\n",
       "  </thead>\n",
       "  <tbody>\n",
       "    <tr>\n",
       "      <th>0016-QLJIS</th>\n",
       "      <td>0</td>\n",
       "      <td>0</td>\n",
       "      <td>1</td>\n",
       "      <td>1</td>\n",
       "      <td>1</td>\n",
       "      <td>1</td>\n",
       "      <td>0</td>\n",
       "      <td>65</td>\n",
       "      <td>90.45</td>\n",
       "      <td>5957.90</td>\n",
       "      <td>...</td>\n",
       "      <td>0</td>\n",
       "      <td>0</td>\n",
       "      <td>1</td>\n",
       "      <td>1</td>\n",
       "      <td>0</td>\n",
       "      <td>0</td>\n",
       "      <td>0</td>\n",
       "      <td>0</td>\n",
       "      <td>0</td>\n",
       "      <td>1</td>\n",
       "    </tr>\n",
       "    <tr>\n",
       "      <th>0017-DINOC</th>\n",
       "      <td>1</td>\n",
       "      <td>0</td>\n",
       "      <td>0</td>\n",
       "      <td>0</td>\n",
       "      <td>0</td>\n",
       "      <td>0</td>\n",
       "      <td>0</td>\n",
       "      <td>54</td>\n",
       "      <td>45.20</td>\n",
       "      <td>2460.55</td>\n",
       "      <td>...</td>\n",
       "      <td>0</td>\n",
       "      <td>0</td>\n",
       "      <td>1</td>\n",
       "      <td>1</td>\n",
       "      <td>0</td>\n",
       "      <td>0</td>\n",
       "      <td>0</td>\n",
       "      <td>1</td>\n",
       "      <td>0</td>\n",
       "      <td>0</td>\n",
       "    </tr>\n",
       "    <tr>\n",
       "      <th>0019-GFNTW</th>\n",
       "      <td>0</td>\n",
       "      <td>0</td>\n",
       "      <td>0</td>\n",
       "      <td>0</td>\n",
       "      <td>0</td>\n",
       "      <td>0</td>\n",
       "      <td>0</td>\n",
       "      <td>56</td>\n",
       "      <td>45.05</td>\n",
       "      <td>2560.10</td>\n",
       "      <td>...</td>\n",
       "      <td>0</td>\n",
       "      <td>0</td>\n",
       "      <td>1</td>\n",
       "      <td>1</td>\n",
       "      <td>0</td>\n",
       "      <td>0</td>\n",
       "      <td>1</td>\n",
       "      <td>0</td>\n",
       "      <td>0</td>\n",
       "      <td>0</td>\n",
       "    </tr>\n",
       "    <tr>\n",
       "      <th>0056-EPFBG</th>\n",
       "      <td>1</td>\n",
       "      <td>0</td>\n",
       "      <td>1</td>\n",
       "      <td>1</td>\n",
       "      <td>0</td>\n",
       "      <td>1</td>\n",
       "      <td>0</td>\n",
       "      <td>20</td>\n",
       "      <td>39.40</td>\n",
       "      <td>825.40</td>\n",
       "      <td>...</td>\n",
       "      <td>0</td>\n",
       "      <td>0</td>\n",
       "      <td>1</td>\n",
       "      <td>1</td>\n",
       "      <td>0</td>\n",
       "      <td>0</td>\n",
       "      <td>0</td>\n",
       "      <td>1</td>\n",
       "      <td>0</td>\n",
       "      <td>0</td>\n",
       "    </tr>\n",
       "    <tr>\n",
       "      <th>0078-XZMHT</th>\n",
       "      <td>1</td>\n",
       "      <td>0</td>\n",
       "      <td>1</td>\n",
       "      <td>0</td>\n",
       "      <td>1</td>\n",
       "      <td>1</td>\n",
       "      <td>0</td>\n",
       "      <td>72</td>\n",
       "      <td>85.15</td>\n",
       "      <td>6316.20</td>\n",
       "      <td>...</td>\n",
       "      <td>0</td>\n",
       "      <td>0</td>\n",
       "      <td>1</td>\n",
       "      <td>1</td>\n",
       "      <td>0</td>\n",
       "      <td>0</td>\n",
       "      <td>1</td>\n",
       "      <td>0</td>\n",
       "      <td>0</td>\n",
       "      <td>0</td>\n",
       "    </tr>\n",
       "  </tbody>\n",
       "</table>\n",
       "<p>5 rows × 27 columns</p>\n",
       "</div>"
      ],
      "text/plain": [
       "             is_male  senior_citizen  partner  dependents  phone_service  \\\n",
       "customer_id                                                                \n",
       "0016-QLJIS         0               0        1           1              1   \n",
       "0017-DINOC         1               0        0           0              0   \n",
       "0019-GFNTW         0               0        0           0              0   \n",
       "0056-EPFBG         1               0        1           1              0   \n",
       "0078-XZMHT         1               0        1           0              1   \n",
       "\n",
       "             paperless_billing  churn  tenure  monthly_charges  total_charges  \\\n",
       "customer_id                                                                     \n",
       "0016-QLJIS                   1      0      65            90.45        5957.90   \n",
       "0017-DINOC                   0      0      54            45.20        2460.55   \n",
       "0019-GFNTW                   0      0      56            45.05        2560.10   \n",
       "0056-EPFBG                   1      0      20            39.40         825.40   \n",
       "0078-XZMHT                   1      0      72            85.15        6316.20   \n",
       "\n",
       "             ...  m2m_contract  one_year_contract  two_year_contract  \\\n",
       "customer_id  ...                                                       \n",
       "0016-QLJIS   ...             0                  0                  1   \n",
       "0017-DINOC   ...             0                  0                  1   \n",
       "0019-GFNTW   ...             0                  0                  1   \n",
       "0056-EPFBG   ...             0                  0                  1   \n",
       "0078-XZMHT   ...             0                  0                  1   \n",
       "\n",
       "             DSL_internet  Fiber_internet  no_internet  bank_auto_payment  \\\n",
       "customer_id                                                                 \n",
       "0016-QLJIS              1               0            0                  0   \n",
       "0017-DINOC              1               0            0                  0   \n",
       "0019-GFNTW              1               0            0                  1   \n",
       "0056-EPFBG              1               0            0                  0   \n",
       "0078-XZMHT              1               0            0                  1   \n",
       "\n",
       "             card_auto_payment  electronic_check_payment  mailed_check_payment  \n",
       "customer_id                                                                     \n",
       "0016-QLJIS                   0                         0                     1  \n",
       "0017-DINOC                   1                         0                     0  \n",
       "0019-GFNTW                   0                         0                     0  \n",
       "0056-EPFBG                   1                         0                     0  \n",
       "0078-XZMHT                   0                         0                     0  \n",
       "\n",
       "[5 rows x 27 columns]"
      ]
     },
     "execution_count": 31,
     "metadata": {},
     "output_type": "execute_result"
    }
   ],
   "source": [
    "#preview\n",
    "telco.head()"
   ]
  },
  {
   "cell_type": "code",
   "execution_count": 32,
   "id": "4e308270",
   "metadata": {},
   "outputs": [
    {
     "name": "stdout",
     "output_type": "stream",
     "text": [
      "<class 'pandas.core.frame.DataFrame'>\n",
      "Index: 7032 entries, 0016-QLJIS to 9986-BONCE\n",
      "Data columns (total 27 columns):\n",
      " #   Column                    Non-Null Count  Dtype  \n",
      "---  ------                    --------------  -----  \n",
      " 0   is_male                   7032 non-null   uint8  \n",
      " 1   senior_citizen            7032 non-null   int64  \n",
      " 2   partner                   7032 non-null   int64  \n",
      " 3   dependents                7032 non-null   int64  \n",
      " 4   phone_service             7032 non-null   int64  \n",
      " 5   paperless_billing         7032 non-null   int64  \n",
      " 6   churn                     7032 non-null   int64  \n",
      " 7   tenure                    7032 non-null   int64  \n",
      " 8   monthly_charges           7032 non-null   float64\n",
      " 9   total_charges             7032 non-null   float64\n",
      " 10  multiple_lines            7032 non-null   uint8  \n",
      " 11  online_security           7032 non-null   uint8  \n",
      " 12  online_backup             7032 non-null   uint8  \n",
      " 13  device_protection         7032 non-null   uint8  \n",
      " 14  tech_support              7032 non-null   uint8  \n",
      " 15  streaming_tv              7032 non-null   uint8  \n",
      " 16  streaming_movies          7032 non-null   uint8  \n",
      " 17  m2m_contract              7032 non-null   uint8  \n",
      " 18  one_year_contract         7032 non-null   uint8  \n",
      " 19  two_year_contract         7032 non-null   uint8  \n",
      " 20  DSL_internet              7032 non-null   uint8  \n",
      " 21  Fiber_internet            7032 non-null   uint8  \n",
      " 22  no_internet               7032 non-null   uint8  \n",
      " 23  bank_auto_payment         7032 non-null   uint8  \n",
      " 24  card_auto_payment         7032 non-null   uint8  \n",
      " 25  electronic_check_payment  7032 non-null   uint8  \n",
      " 26  mailed_check_payment      7032 non-null   uint8  \n",
      "dtypes: float64(2), int64(7), uint8(18)\n",
      "memory usage: 673.0+ KB\n"
     ]
    }
   ],
   "source": [
    "#check out end result\n",
    "telco.info()"
   ]
  },
  {
   "cell_type": "code",
   "execution_count": 33,
   "id": "ada82505",
   "metadata": {},
   "outputs": [],
   "source": [
    "def prep_telco():\n",
    "    \n",
    "    #acquire data from database\n",
    "    df = acquireTelco.get_telco_data()\n",
    "    \n",
    "    #total_charges column holds object type values. I need these to be numeric values\n",
    "    df.total_charges = df.total_charges.str.strip()\n",
    "    df = df[df.total_charges != '']\n",
    "    df.total_charges = df.total_charges.astype(float)\n",
    "    \n",
    "    #customer_id is not a useful feature, but it should serve as an index\n",
    "    df = df.set_index('customer_id')\n",
    "    \n",
    "    #payment_type_id, internet_service_type_id and contract_type_id are all redundant \n",
    "    df = df.drop(columns = ['payment_type_id', 'internet_service_type_id', 'contract_type_id'])\n",
    "    \n",
    "    #now I want to one-hot encode my categorical variables for later exploration\n",
    "    df = df.replace('No', 0).replace('Yes', 1)\n",
    "    \n",
    "    #one-hot encode gender\n",
    "    dummy_1 = pd.get_dummies(df['gender'], dummy_na = False, drop_first = True)\n",
    "    \n",
    "    #rename column\n",
    "    dummy_1.columns = dummy_1.columns.str.replace('Male', 'is_male')\n",
    "    \n",
    "    #more one-hot encoding (get dummy variables for categorical columns with more than 2 unique values)\n",
    "    #I don't drop the first because I'm picky on categorical columns with more than 2 unique values\n",
    "    categ_col = df.columns[df.nunique() > 2].to_list()\n",
    "    dummy_2 = pd.get_dummies(df[categ_col], dummy_na = False, drop_first = False)\n",
    "    \n",
    "    #clean up column names\n",
    "    dummy_2.columns = dummy_2.columns.str.lower().str.replace(' ', '_').str.replace('_1', '').str.replace('_type', '').str.replace('no_internet_service', 'no_internet')\n",
    "    \n",
    "    #I do not want these particular first dummy columns\n",
    "    dummy_drop = dummy_2.columns[dummy_2.columns.str.contains('_0')].to_list()\n",
    "    dummy_drop_again = dummy_2.columns[dummy_2.columns.str.contains('_no_')].to_list()\n",
    "    dummy_drop.extend(dummy_drop_again)\n",
    "    dummy_2 = dummy_2.drop(columns = dummy_drop)\n",
    "    \n",
    "    #I want easier column names to work with\n",
    "    dummy_2 = dummy_2.rename(columns = {\n",
    "        'contract_month-to-month': 'm2m_contract',\n",
    "        'contract_one_year': 'one_year_contract',\n",
    "        'contract_two_year': 'two_year_contract',\n",
    "        'internet_service_dsl': 'DSL_internet',\n",
    "        'internet_service_fiber_optic': 'Fiber_internet',\n",
    "        'internet_service_none': 'no_internet',\n",
    "        'payment_bank_transfer_(automatic)': 'bank_auto_payment',\n",
    "        'payment_credit_card_(automatic)': 'card_auto_payment',\n",
    "        'payment_electronic_check': 'electronic_check_payment',\n",
    "        'payment_mailed_check': 'mailed_check_payment'\n",
    "    })\n",
    "    \n",
    "    #drop dummied categorical columns \n",
    "    df = df.drop(columns = categ_col)\n",
    "    df = df.drop(columns = 'gender')\n",
    "    \n",
    "    #concatenate the dataframes\n",
    "    telco = pd.concat([dummy_1, df, dummy_2], axis = 1)\n",
    "    \n",
    "    #return the resulting dataframe\n",
    "    return telco"
   ]
  },
  {
   "cell_type": "code",
   "execution_count": 34,
   "id": "bb5a020c",
   "metadata": {},
   "outputs": [],
   "source": [
    "#load the prepped data\n",
    "train, validate, test = prepareTelco.prep_telco_data()"
   ]
  },
  {
   "cell_type": "code",
   "execution_count": 35,
   "id": "b01104af",
   "metadata": {},
   "outputs": [
    {
     "data": {
      "text/html": [
       "<div>\n",
       "<style scoped>\n",
       "    .dataframe tbody tr th:only-of-type {\n",
       "        vertical-align: middle;\n",
       "    }\n",
       "\n",
       "    .dataframe tbody tr th {\n",
       "        vertical-align: top;\n",
       "    }\n",
       "\n",
       "    .dataframe thead th {\n",
       "        text-align: right;\n",
       "    }\n",
       "</style>\n",
       "<table border=\"1\" class=\"dataframe\">\n",
       "  <thead>\n",
       "    <tr style=\"text-align: right;\">\n",
       "      <th></th>\n",
       "      <th>is_male</th>\n",
       "      <th>senior_citizen</th>\n",
       "      <th>partner</th>\n",
       "      <th>dependents</th>\n",
       "      <th>phone_service</th>\n",
       "      <th>paperless_billing</th>\n",
       "      <th>churn</th>\n",
       "      <th>tenure</th>\n",
       "      <th>monthly_charges</th>\n",
       "      <th>total_charges</th>\n",
       "      <th>...</th>\n",
       "      <th>m2m_contract</th>\n",
       "      <th>one_year_contract</th>\n",
       "      <th>two_year_contract</th>\n",
       "      <th>DSL_internet</th>\n",
       "      <th>Fiber_internet</th>\n",
       "      <th>no_internet</th>\n",
       "      <th>bank_auto_payment</th>\n",
       "      <th>card_auto_payment</th>\n",
       "      <th>electronic_check_payment</th>\n",
       "      <th>mailed_check_payment</th>\n",
       "    </tr>\n",
       "    <tr>\n",
       "      <th>customer_id</th>\n",
       "      <th></th>\n",
       "      <th></th>\n",
       "      <th></th>\n",
       "      <th></th>\n",
       "      <th></th>\n",
       "      <th></th>\n",
       "      <th></th>\n",
       "      <th></th>\n",
       "      <th></th>\n",
       "      <th></th>\n",
       "      <th></th>\n",
       "      <th></th>\n",
       "      <th></th>\n",
       "      <th></th>\n",
       "      <th></th>\n",
       "      <th></th>\n",
       "      <th></th>\n",
       "      <th></th>\n",
       "      <th></th>\n",
       "      <th></th>\n",
       "      <th></th>\n",
       "    </tr>\n",
       "  </thead>\n",
       "  <tbody>\n",
       "    <tr>\n",
       "      <th>8606-OEGQZ</th>\n",
       "      <td>0</td>\n",
       "      <td>0</td>\n",
       "      <td>0</td>\n",
       "      <td>1</td>\n",
       "      <td>1</td>\n",
       "      <td>0</td>\n",
       "      <td>0</td>\n",
       "      <td>18</td>\n",
       "      <td>25.3</td>\n",
       "      <td>454.65</td>\n",
       "      <td>...</td>\n",
       "      <td>0</td>\n",
       "      <td>0</td>\n",
       "      <td>1</td>\n",
       "      <td>0</td>\n",
       "      <td>0</td>\n",
       "      <td>1</td>\n",
       "      <td>0</td>\n",
       "      <td>1</td>\n",
       "      <td>0</td>\n",
       "      <td>0</td>\n",
       "    </tr>\n",
       "    <tr>\n",
       "      <th>3194-ORPIK</th>\n",
       "      <td>0</td>\n",
       "      <td>0</td>\n",
       "      <td>1</td>\n",
       "      <td>1</td>\n",
       "      <td>1</td>\n",
       "      <td>1</td>\n",
       "      <td>1</td>\n",
       "      <td>50</td>\n",
       "      <td>84.4</td>\n",
       "      <td>4116.15</td>\n",
       "      <td>...</td>\n",
       "      <td>1</td>\n",
       "      <td>0</td>\n",
       "      <td>0</td>\n",
       "      <td>0</td>\n",
       "      <td>1</td>\n",
       "      <td>0</td>\n",
       "      <td>1</td>\n",
       "      <td>0</td>\n",
       "      <td>0</td>\n",
       "      <td>0</td>\n",
       "    </tr>\n",
       "  </tbody>\n",
       "</table>\n",
       "<p>2 rows × 27 columns</p>\n",
       "</div>"
      ],
      "text/plain": [
       "             is_male  senior_citizen  partner  dependents  phone_service  \\\n",
       "customer_id                                                                \n",
       "8606-OEGQZ         0               0        0           1              1   \n",
       "3194-ORPIK         0               0        1           1              1   \n",
       "\n",
       "             paperless_billing  churn  tenure  monthly_charges  total_charges  \\\n",
       "customer_id                                                                     \n",
       "8606-OEGQZ                   0      0      18             25.3         454.65   \n",
       "3194-ORPIK                   1      1      50             84.4        4116.15   \n",
       "\n",
       "             ...  m2m_contract  one_year_contract  two_year_contract  \\\n",
       "customer_id  ...                                                       \n",
       "8606-OEGQZ   ...             0                  0                  1   \n",
       "3194-ORPIK   ...             1                  0                  0   \n",
       "\n",
       "             DSL_internet  Fiber_internet  no_internet  bank_auto_payment  \\\n",
       "customer_id                                                                 \n",
       "8606-OEGQZ              0               0            1                  0   \n",
       "3194-ORPIK              0               1            0                  1   \n",
       "\n",
       "             card_auto_payment  electronic_check_payment  mailed_check_payment  \n",
       "customer_id                                                                     \n",
       "8606-OEGQZ                   1                         0                     0  \n",
       "3194-ORPIK                   0                         0                     0  \n",
       "\n",
       "[2 rows x 27 columns]"
      ]
     },
     "execution_count": 35,
     "metadata": {},
     "output_type": "execute_result"
    }
   ],
   "source": [
    "#everything looks ok\n",
    "train.sample(2)"
   ]
  },
  {
   "cell_type": "code",
   "execution_count": 36,
   "id": "85284922",
   "metadata": {},
   "outputs": [
    {
     "name": "stdout",
     "output_type": "stream",
     "text": [
      "<class 'pandas.core.frame.DataFrame'>\n",
      "Index: 3937 entries, 4566-NECEV to 5816-JMLGY\n",
      "Data columns (total 27 columns):\n",
      " #   Column                    Non-Null Count  Dtype  \n",
      "---  ------                    --------------  -----  \n",
      " 0   is_male                   3937 non-null   uint8  \n",
      " 1   senior_citizen            3937 non-null   int64  \n",
      " 2   partner                   3937 non-null   int64  \n",
      " 3   dependents                3937 non-null   int64  \n",
      " 4   phone_service             3937 non-null   int64  \n",
      " 5   paperless_billing         3937 non-null   int64  \n",
      " 6   churn                     3937 non-null   int64  \n",
      " 7   tenure                    3937 non-null   int64  \n",
      " 8   monthly_charges           3937 non-null   float64\n",
      " 9   total_charges             3937 non-null   float64\n",
      " 10  multiple_lines            3937 non-null   uint8  \n",
      " 11  online_security           3937 non-null   uint8  \n",
      " 12  online_backup             3937 non-null   uint8  \n",
      " 13  device_protection         3937 non-null   uint8  \n",
      " 14  tech_support              3937 non-null   uint8  \n",
      " 15  streaming_tv              3937 non-null   uint8  \n",
      " 16  streaming_movies          3937 non-null   uint8  \n",
      " 17  m2m_contract              3937 non-null   uint8  \n",
      " 18  one_year_contract         3937 non-null   uint8  \n",
      " 19  two_year_contract         3937 non-null   uint8  \n",
      " 20  DSL_internet              3937 non-null   uint8  \n",
      " 21  Fiber_internet            3937 non-null   uint8  \n",
      " 22  no_internet               3937 non-null   uint8  \n",
      " 23  bank_auto_payment         3937 non-null   uint8  \n",
      " 24  card_auto_payment         3937 non-null   uint8  \n",
      " 25  electronic_check_payment  3937 non-null   uint8  \n",
      " 26  mailed_check_payment      3937 non-null   uint8  \n",
      "dtypes: float64(2), int64(7), uint8(18)\n",
      "memory usage: 376.8+ KB\n"
     ]
    }
   ],
   "source": [
    "train.info()"
   ]
  },
  {
   "cell_type": "code",
   "execution_count": 37,
   "id": "fe0a27e7",
   "metadata": {},
   "outputs": [
    {
     "data": {
      "text/plain": [
       "((3937, 27), (1688, 27), (1407, 27))"
      ]
     },
     "execution_count": 37,
     "metadata": {},
     "output_type": "execute_result"
    }
   ],
   "source": [
    "#everything checks out\n",
    "train.shape, validate.shape, test.shape"
   ]
  },
  {
   "cell_type": "markdown",
   "id": "a953a2ac",
   "metadata": {},
   "source": [
    "## Explore Univariate Stats"
   ]
  },
  {
   "cell_type": "code",
   "execution_count": 38,
   "id": "fa07b798",
   "metadata": {},
   "outputs": [],
   "source": [
    "#define my target, categorical columns and numeric columns\n",
    "target = 'churn'\n",
    "cat_vars = telco.columns[telco.nunique() == 2].to_list()\n",
    "cat_vars.remove(target)\n",
    "quant_vars = telco.columns[telco.nunique() > 2].to_list()"
   ]
  },
  {
   "cell_type": "code",
   "execution_count": 39,
   "id": "6c7afc84",
   "metadata": {},
   "outputs": [
    {
     "data": {
      "image/png": "[encoded data removed]",
      "text/plain": [
       "<Figure size 432x288 with 1 Axes>"
      ]
     },
     "metadata": {
      "needs_background": "light"
     },
     "output_type": "display_data"
    },
    {
     "data": {
      "image/png": "[encoded data removed]",
      "text/plain": [
       "<Figure size 432x288 with 1 Axes>"
      ]
     },
     "metadata": {
      "needs_background": "light"
     },
     "output_type": "display_data"
    },
    {
     "data": {
      "image/png": "[encoded data removed]",
      "text/plain": [
       "<Figure size 432x288 with 1 Axes>"
      ]
     },
     "metadata": {
      "needs_background": "light"
     },
     "output_type": "display_data"
    },
    {
     "data": {
      "image/png": "[encoded data removed]",
      "text/plain": [
       "<Figure size 432x288 with 1 Axes>"
      ]
     },
     "metadata": {
      "needs_background": "light"
     },
     "output_type": "display_data"
    },
    {
     "data": {
      "image/png": "[encoded data removed]",
      "text/plain": [
       "<Figure size 432x288 with 1 Axes>"
      ]
     },
     "metadata": {
      "needs_background": "light"
     },
     "output_type": "display_data"
    },
    {
     "data": {
      "image/png": "[encoded data removed]",
      "text/plain": [
       "<Figure size 432x288 with 1 Axes>"
      ]
     },
     "metadata": {
      "needs_background": "light"
     },
     "output_type": "display_data"
    }
   ],
   "source": [
    "#distributions for numeric variables\n",
    "for cat in quant_vars:\n",
    "    train[cat].hist(color = 'teal')\n",
    "    plt.title(cat)\n",
    "    plt.xlabel(cat)\n",
    "    plt.ylabel('Frequency')\n",
    "    plt.grid(True)\n",
    "    plt.show();\n",
    "    plt.boxplot(train[cat])\n",
    "    plt.title(cat)\n",
    "    plt.ylabel(cat)\n",
    "    plt.grid(True)\n",
    "    plt.show();"
   ]
  },
  {
   "cell_type": "code",
   "execution_count": 40,
   "id": "a8065f80",
   "metadata": {},
   "outputs": [
    {
     "name": "stdout",
     "output_type": "stream",
     "text": [
      "0    2891\n",
      "1    1046\n",
      "Name: churn, dtype: int64\n",
      "---------------------------\n",
      "0    0.734315\n",
      "1    0.265685\n",
      "Name: churn, dtype: float64\n",
      "---------------------------\n",
      "27% of customers churn overall.\n"
     ]
    },
    {
     "data": {
      "image/png": "[encoded data removed]",
      "text/plain": [
       "<Figure size 432x288 with 1 Axes>"
      ]
     },
     "metadata": {
      "needs_background": "light"
     },
     "output_type": "display_data"
    }
   ],
   "source": [
    "#Target visualization (proportion of churn)\n",
    "train.churn.hist(color = 'maroon')\n",
    "plt.title('Significant Churn')\n",
    "plt.xlabel('Churn \\n 0: No | 1: Yes')\n",
    "plt.ylabel('Count');\n",
    "print(train.churn.value_counts())\n",
    "print('---------------------------')\n",
    "print(train.churn.value_counts(normalize = True))\n",
    "print('---------------------------')\n",
    "print(f'{round(train.churn.mean() * 100)}% of customers churn overall.')"
   ]
  },
  {
   "cell_type": "code",
   "execution_count": 41,
   "id": "5ffe243a",
   "metadata": {},
   "outputs": [
    {
     "data": {
      "text/html": [
       "<div>\n",
       "<style scoped>\n",
       "    .dataframe tbody tr th:only-of-type {\n",
       "        vertical-align: middle;\n",
       "    }\n",
       "\n",
       "    .dataframe tbody tr th {\n",
       "        vertical-align: top;\n",
       "    }\n",
       "\n",
       "    .dataframe thead th {\n",
       "        text-align: right;\n",
       "    }\n",
       "</style>\n",
       "<table border=\"1\" class=\"dataframe\">\n",
       "  <thead>\n",
       "    <tr style=\"text-align: right;\">\n",
       "      <th></th>\n",
       "      <th>count</th>\n",
       "      <th>mean</th>\n",
       "      <th>std</th>\n",
       "      <th>min</th>\n",
       "      <th>25%</th>\n",
       "      <th>50%</th>\n",
       "      <th>75%</th>\n",
       "      <th>max</th>\n",
       "    </tr>\n",
       "  </thead>\n",
       "  <tbody>\n",
       "    <tr>\n",
       "      <th>tenure</th>\n",
       "      <td>3937.0</td>\n",
       "      <td>32.628651</td>\n",
       "      <td>24.597115</td>\n",
       "      <td>1.00</td>\n",
       "      <td>9.00</td>\n",
       "      <td>29.00</td>\n",
       "      <td>56.00</td>\n",
       "      <td>72.00</td>\n",
       "    </tr>\n",
       "    <tr>\n",
       "      <th>monthly_charges</th>\n",
       "      <td>3937.0</td>\n",
       "      <td>65.065189</td>\n",
       "      <td>30.101776</td>\n",
       "      <td>18.25</td>\n",
       "      <td>35.75</td>\n",
       "      <td>70.40</td>\n",
       "      <td>90.15</td>\n",
       "      <td>118.75</td>\n",
       "    </tr>\n",
       "    <tr>\n",
       "      <th>total_charges</th>\n",
       "      <td>3937.0</td>\n",
       "      <td>2319.589929</td>\n",
       "      <td>2296.673813</td>\n",
       "      <td>18.80</td>\n",
       "      <td>402.60</td>\n",
       "      <td>1410.25</td>\n",
       "      <td>3923.80</td>\n",
       "      <td>8672.45</td>\n",
       "    </tr>\n",
       "  </tbody>\n",
       "</table>\n",
       "</div>"
      ],
      "text/plain": [
       "                  count         mean          std    min     25%      50%  \\\n",
       "tenure           3937.0    32.628651    24.597115   1.00    9.00    29.00   \n",
       "monthly_charges  3937.0    65.065189    30.101776  18.25   35.75    70.40   \n",
       "total_charges    3937.0  2319.589929  2296.673813  18.80  402.60  1410.25   \n",
       "\n",
       "                     75%      max  \n",
       "tenure             56.00    72.00  \n",
       "monthly_charges    90.15   118.75  \n",
       "total_charges    3923.80  8672.45  "
      ]
     },
     "execution_count": 41,
     "metadata": {},
     "output_type": "execute_result"
    }
   ],
   "source": [
    "#descriptive statistics\n",
    "train[quant_vars].describe().T"
   ]
  },
  {
   "cell_type": "code",
   "execution_count": 42,
   "id": "da471dfe",
   "metadata": {},
   "outputs": [
    {
     "data": {
      "text/plain": [
       "0    2891\n",
       "1    1046\n",
       "Name: churn, dtype: int64"
      ]
     },
     "execution_count": 42,
     "metadata": {},
     "output_type": "execute_result"
    }
   ],
   "source": [
    "train.churn.value_counts()"
   ]
  },
  {
   "cell_type": "markdown",
   "id": "130d1a19",
   "metadata": {},
   "source": [
    "### Question 1\n",
    "What percentage of customers are churning overall? For the 1 year plan? The 2 year plan? The month-to-month plan?"
   ]
  },
  {
   "cell_type": "code",
   "execution_count": 43,
   "id": "dfca4770",
   "metadata": {},
   "outputs": [],
   "source": [
    "#assign variables to respective data\n",
    "one_year = train[train.one_year_contract == 1]\n",
    "two_year = train[train.two_year_contract == 1]\n",
    "m2m = train[train.m2m_contract == 1]"
   ]
  },
  {
   "cell_type": "code",
   "execution_count": 44,
   "id": "d3c54ef1",
   "metadata": {},
   "outputs": [
    {
     "data": {
      "image/png": "[encoded data removed]",
      "text/plain": [
       "<Figure size 432x288 with 1 Axes>"
      ]
     },
     "metadata": {
      "needs_background": "light"
     },
     "output_type": "display_data"
    },
    {
     "data": {
      "image/png": "[encoded data removed]",
      "text/plain": [
       "<Figure size 432x288 with 1 Axes>"
      ]
     },
     "metadata": {
      "needs_background": "light"
     },
     "output_type": "display_data"
    },
    {
     "data": {
      "image/png": "[encoded data removed]",
      "text/plain": [
       "<Figure size 432x288 with 1 Axes>"
      ]
     },
     "metadata": {
      "needs_background": "light"
     },
     "output_type": "display_data"
    }
   ],
   "source": [
    "#show churn for contract types\n",
    "contract_type = ['one_year_contract', 'two_year_contract', 'm2m_contract']\n",
    "for contract in contract_type:\n",
    "    train[train[contract] == 1].churn.hist(color = 'maroon')\n",
    "    plt.title(contract)\n",
    "    plt.xlabel('Churn \\n 0: No | 1: Yes')\n",
    "    plt.ylabel('Count')\n",
    "    plt.show();"
   ]
  },
  {
   "cell_type": "code",
   "execution_count": 45,
   "id": "6208f4ea",
   "metadata": {},
   "outputs": [
    {
     "name": "stdout",
     "output_type": "stream",
     "text": [
      "27% of overall customers churn.\n",
      "11% of customers with a 1 year contract churn.\n",
      "3% of customers with a 2 year contract churn.\n",
      "43% of customers on the month-to-month contract churn.\n"
     ]
    },
    {
     "data": {
      "image/png": "[encoded data removed]",
      "text/plain": [
       "<Figure size 936x504 with 1 Axes>"
      ]
     },
     "metadata": {
      "needs_background": "light"
     },
     "output_type": "display_data"
    }
   ],
   "source": [
    "#direct comparison\n",
    "plt.figure(figsize = (13, 7))\n",
    "plt.hist([train.churn, one_year.churn, two_year.churn, m2m.churn],\n",
    "         label = ['Overall', 'One Year Contract', 'Two Year Contract', 'Month-to-Month'],\n",
    "         color = ['maroon', 'rosybrown', 'lightcoral', 'indianred']\n",
    "        )\n",
    "plt.grid(True)\n",
    "plt.legend()\n",
    "plt.title('Month-to-Month Customers Responsible for Majority of Churn', size = 19)\n",
    "plt.xlabel('Churn \\n 0: No | 1: Yes', size = 13)\n",
    "plt.ylabel('Count', size = 13);\n",
    "\n",
    "#find percentage of churn across contracts\n",
    "print(f'{round(train.churn.mean() * 100)}% of overall customers churn.')\n",
    "print(f'{round(one_year.churn.mean() * 100)}% of customers with a 1 year contract churn.')\n",
    "print(f'{round(two_year.churn.mean() * 100)}% of customers with a 2 year contract churn.')\n",
    "print(f'{round(m2m.churn.mean() * 100)}% of customers on the month-to-month contract churn.')"
   ]
  },
  {
   "cell_type": "markdown",
   "id": "c28a6451",
   "metadata": {},
   "source": [
    "### Takeaways\n",
    "* over a quarter of customers are churning\n",
    "\n",
    "* customers on the month-to-month contract churn far more than customers on other contracts"
   ]
  },
  {
   "cell_type": "markdown",
   "id": "13809393",
   "metadata": {},
   "source": [
    "### Question 2\n",
    "A. Do churned customers have higher average charges than retained customers? \n",
    "\n",
    "B. Are higher charges associated with churn?"
   ]
  },
  {
   "cell_type": "markdown",
   "id": "54aad129",
   "metadata": {},
   "source": [
    "Question A. \n",
    "\n",
    "Do customers who churn have higher average charges than retained customers? "
   ]
  },
  {
   "cell_type": "code",
   "execution_count": 46,
   "id": "d4c473b5",
   "metadata": {},
   "outputs": [],
   "source": [
    "#assign variables to respective data\n",
    "churned = train[train.churn == 1]\n",
    "retained = train[train.churn == 0]"
   ]
  },
  {
   "cell_type": "code",
   "execution_count": 47,
   "id": "66515c5f",
   "metadata": {},
   "outputs": [
    {
     "data": {
      "image/png": "[encoded data removed]",
      "text/plain": [
       "<Figure size 432x288 with 1 Axes>"
      ]
     },
     "metadata": {
      "needs_background": "light"
     },
     "output_type": "display_data"
    }
   ],
   "source": [
    "#chart churned monthly charges\n",
    "churned.monthly_charges.hist(color = 'crimson')\n",
    "plt.title('Monthly Charges for Churned Customers')\n",
    "plt.xlabel('Charges')\n",
    "plt.ylabel('Frequency');"
   ]
  },
  {
   "cell_type": "code",
   "execution_count": 48,
   "id": "d0103409",
   "metadata": {},
   "outputs": [
    {
     "data": {
      "image/png": "[encoded data removed]",
      "text/plain": [
       "<Figure size 432x288 with 1 Axes>"
      ]
     },
     "metadata": {
      "needs_background": "light"
     },
     "output_type": "display_data"
    }
   ],
   "source": [
    "#chart retained monthly charges\n",
    "retained.monthly_charges.hist(color = 'navy')\n",
    "plt.title('Monthly Charges for Retained Customers')\n",
    "plt.xlabel('Charges')\n",
    "plt.ylabel('Frequency');"
   ]
  },
  {
   "cell_type": "code",
   "execution_count": 49,
   "id": "a88c3830",
   "metadata": {},
   "outputs": [
    {
     "data": {
      "image/png": "[encoded data removed]",
      "text/plain": [
       "<Figure size 432x288 with 1 Axes>"
      ]
     },
     "metadata": {
      "needs_background": "light"
     },
     "output_type": "display_data"
    }
   ],
   "source": [
    "#Direct comparison\n",
    "plt.hist([churned.monthly_charges, retained.monthly_charges],\n",
    "    label = ['Churned', 'Retained'],\n",
    "    color = ['crimson', 'navy']\n",
    "    )\n",
    "plt.grid(True)\n",
    "plt.legend()\n",
    "plt.title('Comparison of Monthly Charges for Churned and Retained Customers');"
   ]
  },
  {
   "cell_type": "markdown",
   "id": "05d2ab6a",
   "metadata": {},
   "source": [
    "#### Null hypothesis: Customers who churn are charged the same or less as customers who do not churn.\n",
    "\n",
    "#### Alternate hypothesis: Customers who churn are charged more than customers who do not."
   ]
  },
  {
   "cell_type": "code",
   "execution_count": 50,
   "id": "a8fef0da",
   "metadata": {},
   "outputs": [
    {
     "data": {
      "text/plain": [
       "(609.6802277644607, 977.3193572661372)"
      ]
     },
     "execution_count": 50,
     "metadata": {},
     "output_type": "execute_result"
    }
   ],
   "source": [
    "#variances at a glance\n",
    "churned.monthly_charges.var(), retained.monthly_charges.var()"
   ]
  },
  {
   "cell_type": "code",
   "execution_count": 51,
   "id": "a3fca4db",
   "metadata": {},
   "outputs": [
    {
     "data": {
      "text/plain": [
       "LeveneResult(statistic=193.92634874338017, pvalue=4.576508698032445e-43)"
      ]
     },
     "execution_count": 51,
     "metadata": {},
     "output_type": "execute_result"
    }
   ],
   "source": [
    "#just to be sure these are way different variances (low p value indicates so)\n",
    "stats.levene(churned.monthly_charges, retained.monthly_charges)"
   ]
  },
  {
   "cell_type": "code",
   "execution_count": 52,
   "id": "81f25174",
   "metadata": {},
   "outputs": [
    {
     "data": {
      "text/plain": [
       "NormaltestResult(statistic=64272.884213975194, pvalue=0.0)"
      ]
     },
     "execution_count": 52,
     "metadata": {},
     "output_type": "execute_result"
    }
   ],
   "source": [
    "#test for normality\n",
    "stats.normaltest(retained.monthly_charges)"
   ]
  },
  {
   "cell_type": "code",
   "execution_count": 53,
   "id": "8422ca47",
   "metadata": {},
   "outputs": [
    {
     "data": {
      "text/plain": [
       "NormaltestResult(statistic=78.9748116479764, pvalue=7.093123899369489e-18)"
      ]
     },
     "execution_count": 53,
     "metadata": {},
     "output_type": "execute_result"
    }
   ],
   "source": [
    "#test for normality\n",
    "stats.normaltest(churned.monthly_charges)"
   ]
  },
  {
   "cell_type": "code",
   "execution_count": 54,
   "id": "7e6de5bc",
   "metadata": {},
   "outputs": [
    {
     "name": "stdout",
     "output_type": "stream",
     "text": [
      "1046\n",
      "2891\n"
     ]
    }
   ],
   "source": [
    "#how many observations\n",
    "print(len(churned))\n",
    "print(len(retained))"
   ]
  },
  {
   "cell_type": "markdown",
   "id": "5480a62f",
   "metadata": {},
   "source": [
    "We have enough observations and the distributions seem normal enough (normality), but the normality test says they are not normal, and the variances are not equal, but the observations are independent of each other."
   ]
  },
  {
   "cell_type": "code",
   "execution_count": 55,
   "id": "d58bc447",
   "metadata": {},
   "outputs": [
    {
     "data": {
      "text/plain": [
       "MannwhitneyuResult(statistic=1831827.0, pvalue=1.6091212849297898e-24)"
      ]
     },
     "execution_count": 55,
     "metadata": {},
     "output_type": "execute_result"
    }
   ],
   "source": [
    "#use Mann-Whitney U test \n",
    "stats.mannwhitneyu(churned.monthly_charges, retained.monthly_charges, alternative = 'greater')"
   ]
  },
  {
   "cell_type": "code",
   "execution_count": 56,
   "id": "12435c04",
   "metadata": {},
   "outputs": [
    {
     "data": {
      "text/plain": [
       "Ttest_indResult(statistic=12.178218374409106, pvalue=2.023360253234964e-33)"
      ]
     },
     "execution_count": 56,
     "metadata": {},
     "output_type": "execute_result"
    }
   ],
   "source": [
    "#ttest_ind\n",
    "stats.ttest_ind(churned.monthly_charges, retained.monthly_charges, equal_var = False, alternative = 'greater')"
   ]
  },
  {
   "cell_type": "markdown",
   "id": "83e1c3bf",
   "metadata": {},
   "source": [
    "#### The extremely low p-value indicates that we can confidently reject the null hypothesis that customers who churn are charged less or the same as retained customers."
   ]
  },
  {
   "cell_type": "markdown",
   "id": "bdcf1a5c",
   "metadata": {},
   "source": [
    "#### Takeaways\n",
    "* customers who churn are charged significantly more than those who do not"
   ]
  },
  {
   "cell_type": "markdown",
   "id": "e6891846",
   "metadata": {},
   "source": [
    "Question B.\n",
    "\n",
    "Are higher charges associated with churn?"
   ]
  },
  {
   "cell_type": "code",
   "execution_count": 57,
   "id": "b1a586f8",
   "metadata": {},
   "outputs": [],
   "source": [
    "#the average monthly charge is $65 and the upper quartile cutoff is at $90 (from descriptive statistics)\n",
    "train['high_charges'] = train.monthly_charges > 90\n",
    "train['higher_than_average_charges'] = train.monthly_charges >= 66\n",
    "high_charges = train[train.monthly_charges > 90]\n",
    "higher_than_average_charges = train[train.monthly_charges >= 66]"
   ]
  },
  {
   "cell_type": "code",
   "execution_count": 58,
   "id": "517739d2",
   "metadata": {},
   "outputs": [
    {
     "data": {
      "text/plain": [
       "customer_id\n",
       "4566-NECEV     True\n",
       "2640-LYMOV    False\n",
       "6496-SLWHQ     True\n",
       "7216-EWTRS     True\n",
       "8887-IPQNC    False\n",
       "Name: high_charges, dtype: bool"
      ]
     },
     "execution_count": 58,
     "metadata": {},
     "output_type": "execute_result"
    }
   ],
   "source": [
    "#looks good\n",
    "train.high_charges.head()"
   ]
  },
  {
   "cell_type": "code",
   "execution_count": 59,
   "id": "b2ce99f3",
   "metadata": {},
   "outputs": [
    {
     "name": "stdout",
     "output_type": "stream",
     "text": [
      "Observations\n",
      "2173\n",
      "999\n"
     ]
    }
   ],
   "source": [
    "#number of observations\n",
    "print('Observations')\n",
    "print(len(higher_than_average_charges))\n",
    "print(len(high_charges))"
   ]
  },
  {
   "cell_type": "code",
   "execution_count": 60,
   "id": "52ca3161",
   "metadata": {},
   "outputs": [
    {
     "data": {
      "image/png": "[encoded data removed]",
      "text/plain": [
       "<Figure size 432x288 with 1 Axes>"
      ]
     },
     "metadata": {
      "needs_background": "light"
     },
     "output_type": "display_data"
    }
   ],
   "source": [
    "#Juxtaposition of churn between customers with greater-than-average charges and the overall population\n",
    "plt.hist([higher_than_average_charges.churn, train.churn],\n",
    "         label = ['Greater-than-average charges churn', 'Overall churn'],\n",
    "         color = ['goldenrod', 'maroon']\n",
    "        )\n",
    "plt.title('Customers With Greater-Than-Average Charges Churn Proportionately More')\n",
    "plt.grid(True)\n",
    "plt.legend();"
   ]
  },
  {
   "cell_type": "code",
   "execution_count": 61,
   "id": "3999efc6",
   "metadata": {
    "scrolled": true
   },
   "outputs": [
    {
     "data": {
      "image/png": "[encoded data removed]",
      "text/plain": [
       "<Figure size 432x288 with 1 Axes>"
      ]
     },
     "metadata": {
      "needs_background": "light"
     },
     "output_type": "display_data"
    }
   ],
   "source": [
    "#Juxtaposition of churn between customers with higher charges and the overall population\n",
    "plt.hist([high_charges.churn, train.churn],\n",
    "         label = ['High charges churn', 'Overall churn'],\n",
    "         color = ['darkgoldenrod', 'maroon']\n",
    "        )\n",
    "plt.title('Customers With High Charges Churn Proportionately More')\n",
    "plt.grid(True)\n",
    "plt.legend();"
   ]
  },
  {
   "cell_type": "markdown",
   "id": "7aae44d8",
   "metadata": {},
   "source": [
    "#### Null hypothesis: High charges and churn are independent of each other.\n",
    "#### Alternate hypothesis: High charges are associated with churn."
   ]
  },
  {
   "cell_type": "code",
   "execution_count": 62,
   "id": "00c18949",
   "metadata": {},
   "outputs": [
    {
     "data": {
      "text/html": [
       "<div>\n",
       "<style scoped>\n",
       "    .dataframe tbody tr th:only-of-type {\n",
       "        vertical-align: middle;\n",
       "    }\n",
       "\n",
       "    .dataframe tbody tr th {\n",
       "        vertical-align: top;\n",
       "    }\n",
       "\n",
       "    .dataframe thead th {\n",
       "        text-align: right;\n",
       "    }\n",
       "</style>\n",
       "<table border=\"1\" class=\"dataframe\">\n",
       "  <thead>\n",
       "    <tr style=\"text-align: right;\">\n",
       "      <th>churn</th>\n",
       "      <th>0</th>\n",
       "      <th>1</th>\n",
       "    </tr>\n",
       "    <tr>\n",
       "      <th>high_charges</th>\n",
       "      <th></th>\n",
       "      <th></th>\n",
       "    </tr>\n",
       "  </thead>\n",
       "  <tbody>\n",
       "    <tr>\n",
       "      <th>False</th>\n",
       "      <td>2198</td>\n",
       "      <td>740</td>\n",
       "    </tr>\n",
       "    <tr>\n",
       "      <th>True</th>\n",
       "      <td>693</td>\n",
       "      <td>306</td>\n",
       "    </tr>\n",
       "  </tbody>\n",
       "</table>\n",
       "</div>"
      ],
      "text/plain": [
       "churn            0    1\n",
       "high_charges           \n",
       "False         2198  740\n",
       "True           693  306"
      ]
     },
     "execution_count": 62,
     "metadata": {},
     "output_type": "execute_result"
    }
   ],
   "source": [
    "#crosstab of high charges and churn\n",
    "observed = pd.crosstab(train.high_charges, train.churn)\n",
    "observed"
   ]
  },
  {
   "cell_type": "code",
   "execution_count": 63,
   "id": "104e2768",
   "metadata": {},
   "outputs": [
    {
     "name": "stdout",
     "output_type": "stream",
     "text": [
      "Observed\n",
      "--------\n",
      "[[2198  740]\n",
      " [ 693  306]]\n",
      "===================\n",
      "Expected\n",
      "--------\n",
      "[[2157  780]\n",
      " [ 733  265]]\n",
      "===================\n",
      "Degrees of Freedom: 1\n",
      "===================\n",
      "Chi^2 and P\n",
      "-----------\n",
      "chi^2 = 11.0454\n",
      "p = 0.0009\n"
     ]
    }
   ],
   "source": [
    "#results\n",
    "chi2, p, degf, expected = stats.chi2_contingency(observed)\n",
    "print('Observed')\n",
    "print('--------')\n",
    "print(observed.values)\n",
    "print('===================')\n",
    "print('Expected')\n",
    "print('--------')\n",
    "print(expected.astype(int))\n",
    "print('===================')\n",
    "print(f'Degrees of Freedom: {degf}')\n",
    "print('===================')\n",
    "print('Chi^2 and P')\n",
    "print('-----------')\n",
    "print(f'chi^2 = {chi2:.4f}')\n",
    "print(f'p = {p:.4f}')"
   ]
  },
  {
   "cell_type": "markdown",
   "id": "b0cd5022",
   "metadata": {},
   "source": [
    "#### Extremely low p-value indicates that I can reject the null hypothesis that high charges and churn are independent of each other"
   ]
  },
  {
   "cell_type": "markdown",
   "id": "678fb532",
   "metadata": {},
   "source": [
    "What about greater-than-average charges?"
   ]
  },
  {
   "cell_type": "markdown",
   "id": "46e43848",
   "metadata": {},
   "source": [
    "#### Null hypothesis: Greater-than-average charges and churn are independent of each other.\n",
    "#### Alternate hypothesis: Greater-than-average charges are associated with churn."
   ]
  },
  {
   "cell_type": "code",
   "execution_count": 64,
   "id": "c0288639",
   "metadata": {
    "scrolled": true
   },
   "outputs": [
    {
     "data": {
      "text/html": [
       "<div>\n",
       "<style scoped>\n",
       "    .dataframe tbody tr th:only-of-type {\n",
       "        vertical-align: middle;\n",
       "    }\n",
       "\n",
       "    .dataframe tbody tr th {\n",
       "        vertical-align: top;\n",
       "    }\n",
       "\n",
       "    .dataframe thead th {\n",
       "        text-align: right;\n",
       "    }\n",
       "</style>\n",
       "<table border=\"1\" class=\"dataframe\">\n",
       "  <thead>\n",
       "    <tr style=\"text-align: right;\">\n",
       "      <th>churn</th>\n",
       "      <th>0</th>\n",
       "      <th>1</th>\n",
       "    </tr>\n",
       "    <tr>\n",
       "      <th>higher_than_average_charges</th>\n",
       "      <th></th>\n",
       "      <th></th>\n",
       "    </tr>\n",
       "  </thead>\n",
       "  <tbody>\n",
       "    <tr>\n",
       "      <th>False</th>\n",
       "      <td>1460</td>\n",
       "      <td>304</td>\n",
       "    </tr>\n",
       "    <tr>\n",
       "      <th>True</th>\n",
       "      <td>1431</td>\n",
       "      <td>742</td>\n",
       "    </tr>\n",
       "  </tbody>\n",
       "</table>\n",
       "</div>"
      ],
      "text/plain": [
       "churn                           0    1\n",
       "higher_than_average_charges           \n",
       "False                        1460  304\n",
       "True                         1431  742"
      ]
     },
     "execution_count": 64,
     "metadata": {},
     "output_type": "execute_result"
    }
   ],
   "source": [
    "#crosstab of higher than average charges and churn\n",
    "observed = pd.crosstab(train.higher_than_average_charges, train.churn)\n",
    "observed"
   ]
  },
  {
   "cell_type": "code",
   "execution_count": 65,
   "id": "ce60241a",
   "metadata": {
    "scrolled": true
   },
   "outputs": [
    {
     "name": "stdout",
     "output_type": "stream",
     "text": [
      "Observed\n",
      "--------\n",
      "[[1460  304]\n",
      " [1431  742]]\n",
      "===================\n",
      "Expected\n",
      "--------\n",
      "[[1295  468]\n",
      " [1595  577]]\n",
      "===================\n",
      "Degrees of Freedom: 1\n",
      "===================\n",
      "Chi^2 and P\n",
      "-----------\n",
      "chi^2 = 141.8837\n",
      "p = 0.0000\n"
     ]
    }
   ],
   "source": [
    "#results\n",
    "chi2, p, degf, expected = stats.chi2_contingency(observed)\n",
    "print('Observed')\n",
    "print('--------')\n",
    "print(observed.values)\n",
    "print('===================')\n",
    "print('Expected')\n",
    "print('--------')\n",
    "print(expected.astype(int))\n",
    "print('===================')\n",
    "print(f'Degrees of Freedom: {degf}')\n",
    "print('===================')\n",
    "print('Chi^2 and P')\n",
    "print('-----------')\n",
    "print(f'chi^2 = {chi2:.4f}')\n",
    "print(f'p = {p:.4f}')"
   ]
  },
  {
   "cell_type": "markdown",
   "id": "66e0a51b",
   "metadata": {},
   "source": [
    "#### Extremely low p-value indicates that I can reject the null hypothesis that greater-than-average charges and churn are independent of each other"
   ]
  },
  {
   "cell_type": "markdown",
   "id": "6c2cf016",
   "metadata": {},
   "source": [
    "#### Takeaways\n",
    "* higher charges are associated with churn\n",
    "* this may be a useful feature; I will create this feature on my train and validate sets"
   ]
  },
  {
   "cell_type": "code",
   "execution_count": 66,
   "id": "228472d6",
   "metadata": {},
   "outputs": [],
   "source": [
    "#follow through on feature creation\n",
    "validate['high_charges'] = train.monthly_charges > 90\n",
    "validate['higher_than_average_charges'] = train.monthly_charges >= 66\n",
    "test['high_charges'] = train.monthly_charges > 90\n",
    "test['higher_than_average_charges'] = train.monthly_charges >= 66"
   ]
  },
  {
   "cell_type": "markdown",
   "id": "9349b47c",
   "metadata": {},
   "source": [
    "### Question 3\n",
    "What is the churn rate for male customers vs female customers?"
   ]
  },
  {
   "cell_type": "code",
   "execution_count": 67,
   "id": "1dc7a5cb",
   "metadata": {},
   "outputs": [],
   "source": [
    "#assign variables to respective data\n",
    "male = train[train.is_male == 1]\n",
    "female = train[train.is_male == 0]"
   ]
  },
  {
   "cell_type": "code",
   "execution_count": 68,
   "id": "8306f272",
   "metadata": {},
   "outputs": [
    {
     "data": {
      "image/png": "[encoded data removed]",
      "text/plain": [
       "<Figure size 432x288 with 1 Axes>"
      ]
     },
     "metadata": {
      "needs_background": "light"
     },
     "output_type": "display_data"
    }
   ],
   "source": [
    "#show churn for men\n",
    "plt.title('Men')\n",
    "male.churn.hist(color = 'blue');"
   ]
  },
  {
   "cell_type": "code",
   "execution_count": 69,
   "id": "a0b741e3",
   "metadata": {},
   "outputs": [
    {
     "data": {
      "image/png": "[encoded data removed]",
      "text/plain": [
       "<Figure size 432x288 with 1 Axes>"
      ]
     },
     "metadata": {
      "needs_background": "light"
     },
     "output_type": "display_data"
    }
   ],
   "source": [
    "#show churn for women\n",
    "plt.title('Women')\n",
    "female.churn.hist(color = 'red');"
   ]
  },
  {
   "cell_type": "code",
   "execution_count": 70,
   "id": "bab2636c",
   "metadata": {},
   "outputs": [
    {
     "name": "stdout",
     "output_type": "stream",
     "text": [
      "25% of customers who churn are men.\n",
      "28% of customers who churn are women.\n"
     ]
    },
    {
     "data": {
      "image/png": "[encoded data removed]",
      "text/plain": [
       "<Figure size 432x288 with 1 Axes>"
      ]
     },
     "metadata": {
      "needs_background": "light"
     },
     "output_type": "display_data"
    }
   ],
   "source": [
    "#comparison view\n",
    "plt.hist([male.churn, female.churn],\n",
    "    label = ['Male', 'Female'],\n",
    "    color = ['blue', 'red']\n",
    "    )\n",
    "plt.grid(True)\n",
    "plt.legend();\n",
    "\n",
    "#compare churn rates across gender\n",
    "print(f'{round(male.churn.mean() * 100)}% of customers who churn are men.')\n",
    "print(f'{round(female.churn.mean() * 100)}% of customers who churn are women.')"
   ]
  },
  {
   "cell_type": "markdown",
   "id": "452022ae",
   "metadata": {},
   "source": [
    "#### Takeaways\n",
    "* churn rate for male customers and female customers seem the same"
   ]
  },
  {
   "cell_type": "markdown",
   "id": "0764d5c3",
   "metadata": {},
   "source": [
    "### Question 4\n",
    "What is the rate of churn for customers with dependents vs customers without?"
   ]
  },
  {
   "cell_type": "code",
   "execution_count": 71,
   "id": "87f4d50a",
   "metadata": {},
   "outputs": [],
   "source": [
    "#assign variables to relevant data\n",
    "has_dependents = train[train.dependents == 1]\n",
    "no_dependents = train[train.dependents == 0]"
   ]
  },
  {
   "cell_type": "code",
   "execution_count": 72,
   "id": "8c47b2e1",
   "metadata": {},
   "outputs": [
    {
     "data": {
      "image/png": "[encoded data removed]",
      "text/plain": [
       "<Figure size 432x288 with 1 Axes>"
      ]
     },
     "metadata": {
      "needs_background": "light"
     },
     "output_type": "display_data"
    }
   ],
   "source": [
    "#show churn for customers with dependents\n",
    "plt.title('Has Kids')\n",
    "has_dependents.churn.hist(color = 'pink');"
   ]
  },
  {
   "cell_type": "code",
   "execution_count": 73,
   "id": "c7329a81",
   "metadata": {},
   "outputs": [
    {
     "data": {
      "image/png": "[encoded data removed]",
      "text/plain": [
       "<Figure size 432x288 with 1 Axes>"
      ]
     },
     "metadata": {
      "needs_background": "light"
     },
     "output_type": "display_data"
    }
   ],
   "source": [
    "#show churn for customers without dependents\n",
    "plt.title('No Kids')\n",
    "no_dependents.churn.hist(color = 'lightsteelblue');"
   ]
  },
  {
   "cell_type": "code",
   "execution_count": 74,
   "id": "163f5f13",
   "metadata": {},
   "outputs": [
    {
     "name": "stdout",
     "output_type": "stream",
     "text": [
      "15% of customers with dependents churn.\n",
      "31% of customers without dependents churn.\n"
     ]
    },
    {
     "data": {
      "image/png": "[encoded data removed]",
      "text/plain": [
       "<Figure size 432x288 with 1 Axes>"
      ]
     },
     "metadata": {
      "needs_background": "light"
     },
     "output_type": "display_data"
    }
   ],
   "source": [
    "#comparison view\n",
    "plt.hist([has_dependents.churn, no_dependents.churn],\n",
    "         label = ['Has Dependents', 'No Dependents'],\n",
    "         color = ['pink', 'lightsteelblue']\n",
    "        )\n",
    "plt.grid(True)\n",
    "plt.legend();\n",
    "\n",
    "#compare churn across status on dependent claim\n",
    "print(f'{round(has_dependents.churn.mean() * 100)}% of customers with dependents churn.')\n",
    "print(f'{round(no_dependents.churn.mean() * 100)}% of customers without dependents churn.')"
   ]
  },
  {
   "cell_type": "markdown",
   "id": "a84e82d1",
   "metadata": {},
   "source": [
    "#### Takeaways\n",
    " * customers without dependents seem to churn more than those without"
   ]
  },
  {
   "cell_type": "markdown",
   "id": "863aa57c",
   "metadata": {},
   "source": [
    "### Question 5\n",
    "Is there any difference in churn rate for customers with a partner vs customers without?"
   ]
  },
  {
   "cell_type": "code",
   "execution_count": 75,
   "id": "c21a6382",
   "metadata": {},
   "outputs": [],
   "source": [
    "#assign variables to respective data\n",
    "has_partner = train[train.partner == 1]\n",
    "no_partner = train[train.partner == 0]"
   ]
  },
  {
   "cell_type": "code",
   "execution_count": 76,
   "id": "d9a9718e",
   "metadata": {},
   "outputs": [
    {
     "data": {
      "image/png": "[encoded data removed]",
      "text/plain": [
       "<Figure size 432x288 with 1 Axes>"
      ]
     },
     "metadata": {
      "needs_background": "light"
     },
     "output_type": "display_data"
    }
   ],
   "source": [
    "#show churn for customers with partner\n",
    "plt.title('Partner')\n",
    "has_partner.churn.hist(color = 'hotpink');"
   ]
  },
  {
   "cell_type": "code",
   "execution_count": 77,
   "id": "675434c6",
   "metadata": {},
   "outputs": [
    {
     "data": {
      "image/png": "[encoded data removed]",
      "text/plain": [
       "<Figure size 432x288 with 1 Axes>"
      ]
     },
     "metadata": {
      "needs_background": "light"
     },
     "output_type": "display_data"
    }
   ],
   "source": [
    "#show churn for customers without a partner\n",
    "plt.title('No Partner')\n",
    "no_partner.churn.hist(color = 'indigo');"
   ]
  },
  {
   "cell_type": "code",
   "execution_count": 78,
   "id": "07b8d33d",
   "metadata": {},
   "outputs": [
    {
     "name": "stdout",
     "output_type": "stream",
     "text": [
      "20% of customers with a partner churn.\n",
      "33% of customers without a partner churn.\n"
     ]
    },
    {
     "data": {
      "image/png": "[encoded data removed]",
      "text/plain": [
       "<Figure size 432x288 with 1 Axes>"
      ]
     },
     "metadata": {
      "needs_background": "light"
     },
     "output_type": "display_data"
    }
   ],
   "source": [
    "#comparison view\n",
    "plt.hist([has_partner.churn, no_partner.churn],\n",
    "         color = ['hotpink', 'indigo'],\n",
    "         label = ['Has Partner', 'No Partner']\n",
    "        )\n",
    "plt.legend()\n",
    "plt.grid(True);\n",
    "\n",
    "#compare churn rates across partner status\n",
    "print(f'{round(has_partner.churn.mean() * 100)}% of customers with a partner churn.')\n",
    "print(f'{round(no_partner.churn.mean() * 100)}% of customers without a partner churn.')"
   ]
  },
  {
   "cell_type": "markdown",
   "id": "a33e1c5f",
   "metadata": {},
   "source": [
    "#### Takeaways\n",
    "* customers without a partner seem to churn much more"
   ]
  },
  {
   "cell_type": "markdown",
   "id": "a32b0c83",
   "metadata": {},
   "source": [
    "### Question 6\n",
    "Do customers with a streaming movie or streaming tv service churn more than those who do not have these services?"
   ]
  },
  {
   "cell_type": "code",
   "execution_count": 79,
   "id": "db80594c",
   "metadata": {},
   "outputs": [],
   "source": [
    "#assign variables to respective data\n",
    "has_movies = train[train.streaming_movies == 1]\n",
    "no_movies = train[train.streaming_movies == 0]\n",
    "has_stream = train[train.streaming_tv == 1]\n",
    "no_stream = train[train.streaming_tv == 0]"
   ]
  },
  {
   "cell_type": "code",
   "execution_count": 80,
   "id": "8239ea15",
   "metadata": {},
   "outputs": [
    {
     "data": {
      "image/png": "[encoded data removed]",
      "text/plain": [
       "<Figure size 432x288 with 1 Axes>"
      ]
     },
     "metadata": {
      "needs_background": "light"
     },
     "output_type": "display_data"
    }
   ],
   "source": [
    "#show churn for customers with movies\n",
    "plt.title('Has Streaming Movie Service')\n",
    "has_movies.churn.hist(color = 'orange');"
   ]
  },
  {
   "cell_type": "code",
   "execution_count": 81,
   "id": "172ddb6d",
   "metadata": {},
   "outputs": [
    {
     "data": {
      "image/png": "[encoded data removed]",
      "text/plain": [
       "<Figure size 432x288 with 1 Axes>"
      ]
     },
     "metadata": {
      "needs_background": "light"
     },
     "output_type": "display_data"
    }
   ],
   "source": [
    "#show churn for customers without movies\n",
    "plt.title('No Streaming Movie Service')\n",
    "no_movies.churn.hist(color = 'wheat');"
   ]
  },
  {
   "cell_type": "code",
   "execution_count": 82,
   "id": "5d944d98",
   "metadata": {},
   "outputs": [
    {
     "data": {
      "image/png": "[encoded data removed]",
      "text/plain": [
       "<Figure size 432x288 with 1 Axes>"
      ]
     },
     "metadata": {
      "needs_background": "light"
     },
     "output_type": "display_data"
    }
   ],
   "source": [
    "#show churn for customers with streaming tv\n",
    "plt.title('Has Streaming TV')\n",
    "has_stream.churn.hist(color = 'darkorange');"
   ]
  },
  {
   "cell_type": "code",
   "execution_count": 83,
   "id": "e518d1d8",
   "metadata": {},
   "outputs": [
    {
     "data": {
      "image/png": "[encoded data removed]",
      "text/plain": [
       "<Figure size 432x288 with 1 Axes>"
      ]
     },
     "metadata": {
      "needs_background": "light"
     },
     "output_type": "display_data"
    }
   ],
   "source": [
    "#show churn for customers without streaming tv\n",
    "plt.title('No Streaming TV')\n",
    "no_stream.churn.hist(color = 'moccasin');"
   ]
  },
  {
   "cell_type": "code",
   "execution_count": 84,
   "id": "cc1a1292",
   "metadata": {},
   "outputs": [
    {
     "name": "stdout",
     "output_type": "stream",
     "text": [
      "29% of customers with the streaming movie service churn.\n",
      "25% of customers without the streaming movie service churn.\n",
      "29% of customers with the streaming tv service churn.\n",
      "25% of customers without the streaming tv service churn.\n"
     ]
    },
    {
     "data": {
      "image/png": "[encoded data removed]",
      "text/plain": [
       "<Figure size 936x504 with 1 Axes>"
      ]
     },
     "metadata": {
      "needs_background": "light"
     },
     "output_type": "display_data"
    }
   ],
   "source": [
    "#comparison view\n",
    "plt.figure(figsize = (13, 7))\n",
    "plt.hist(\n",
    "    [has_movies.churn, no_movies.churn, has_stream.churn, no_stream.churn],\n",
    "    label = ['streaming movies', 'no movies', 'streaming tv', 'no stream'],\n",
    "    color = ['orange', 'wheat', 'darkorange', 'moccasin']\n",
    ")\n",
    "plt.grid(True)\n",
    "plt.legend();\n",
    "\n",
    "#compare churn rates across streaming services\n",
    "print(f'{round(has_movies.churn.mean() * 100)}% of customers with the streaming movie service churn.')\n",
    "print(f'{round(no_movies.churn.mean() * 100)}% of customers without the streaming movie service churn.')\n",
    "print(f'{round(has_stream.churn.mean() * 100)}% of customers with the streaming tv service churn.')\n",
    "print(f'{round(no_stream.churn.mean() * 100)}% of customers without the streaming tv service churn.')"
   ]
  },
  {
   "cell_type": "code",
   "execution_count": 85,
   "id": "3dfc7e89",
   "metadata": {},
   "outputs": [
    {
     "data": {
      "text/html": [
       "<div>\n",
       "<style scoped>\n",
       "    .dataframe tbody tr th:only-of-type {\n",
       "        vertical-align: middle;\n",
       "    }\n",
       "\n",
       "    .dataframe tbody tr th {\n",
       "        vertical-align: top;\n",
       "    }\n",
       "\n",
       "    .dataframe thead th {\n",
       "        text-align: right;\n",
       "    }\n",
       "</style>\n",
       "<table border=\"1\" class=\"dataframe\">\n",
       "  <thead>\n",
       "    <tr style=\"text-align: right;\">\n",
       "      <th>streaming_tv</th>\n",
       "      <th>0</th>\n",
       "      <th>1</th>\n",
       "    </tr>\n",
       "    <tr>\n",
       "      <th>streaming_movies</th>\n",
       "      <th></th>\n",
       "      <th></th>\n",
       "    </tr>\n",
       "  </thead>\n",
       "  <tbody>\n",
       "    <tr>\n",
       "      <th>0</th>\n",
       "      <td>1972</td>\n",
       "      <td>432</td>\n",
       "    </tr>\n",
       "    <tr>\n",
       "      <th>1</th>\n",
       "      <td>442</td>\n",
       "      <td>1091</td>\n",
       "    </tr>\n",
       "  </tbody>\n",
       "</table>\n",
       "</div>"
      ],
      "text/plain": [
       "streaming_tv         0     1\n",
       "streaming_movies            \n",
       "0                 1972   432\n",
       "1                  442  1091"
      ]
     },
     "execution_count": 85,
     "metadata": {},
     "output_type": "execute_result"
    }
   ],
   "source": [
    "#confirm these are not the same\n",
    "pd.crosstab(train.streaming_movies, train.streaming_tv)"
   ]
  },
  {
   "cell_type": "markdown",
   "id": "39985614",
   "metadata": {},
   "source": [
    "#### Takeaways\n",
    "* streaming tv and streaming movies are indeed separate services\n",
    "\n",
    "* customers without the service seem to churn more by count, but proportianately less"
   ]
  },
  {
   "cell_type": "markdown",
   "id": "3922b64f",
   "metadata": {},
   "source": [
    "### Question 7\n",
    "Are customers with a certain subscription more likely to churn?"
   ]
  },
  {
   "cell_type": "code",
   "execution_count": 86,
   "id": "35236aad",
   "metadata": {},
   "outputs": [],
   "source": [
    "#assign variables to respective subscription data\n",
    "no_phone_Fiber = train[(train.phone_service == 0) & (train.Fiber_internet == 1)]\n",
    "no_phone_DSL = train[(train.phone_service == 0) & (train.DSL_internet == 1)]\n",
    "one_line_no_internet = train[(train.phone_service == 1) & (train.multiple_lines == 0) & (train.no_internet == 1)]\n",
    "one_line_Fiber = train[(train.phone_service == 1) & (train.multiple_lines == 0) & (train.Fiber_internet == 1)]\n",
    "one_line_DSL = train[(train.phone_service == 1) & (train.multiple_lines == 0) & (train.DSL_internet == 1)]\n",
    "multiple_lines_no_internet = train[(train.multiple_lines == 1) & (train.no_internet == 1)]\n",
    "multiple_lines_Fiber = train[(train.multiple_lines == 1) & (train.Fiber_internet == 1)]\n",
    "multiple_lines_DSL = train[(train.multiple_lines == 1) & (train.DSL_internet == 1)]"
   ]
  },
  {
   "cell_type": "code",
   "execution_count": 87,
   "id": "fdd03df8",
   "metadata": {},
   "outputs": [
    {
     "data": {
      "text/html": [
       "<div>\n",
       "<style scoped>\n",
       "    .dataframe tbody tr th:only-of-type {\n",
       "        vertical-align: middle;\n",
       "    }\n",
       "\n",
       "    .dataframe tbody tr th {\n",
       "        vertical-align: top;\n",
       "    }\n",
       "\n",
       "    .dataframe thead th {\n",
       "        text-align: right;\n",
       "    }\n",
       "</style>\n",
       "<table border=\"1\" class=\"dataframe\">\n",
       "  <thead>\n",
       "    <tr style=\"text-align: right;\">\n",
       "      <th></th>\n",
       "      <th>is_male</th>\n",
       "      <th>senior_citizen</th>\n",
       "      <th>partner</th>\n",
       "      <th>dependents</th>\n",
       "      <th>phone_service</th>\n",
       "      <th>paperless_billing</th>\n",
       "      <th>churn</th>\n",
       "      <th>tenure</th>\n",
       "      <th>monthly_charges</th>\n",
       "      <th>total_charges</th>\n",
       "      <th>...</th>\n",
       "      <th>two_year_contract</th>\n",
       "      <th>DSL_internet</th>\n",
       "      <th>Fiber_internet</th>\n",
       "      <th>no_internet</th>\n",
       "      <th>bank_auto_payment</th>\n",
       "      <th>card_auto_payment</th>\n",
       "      <th>electronic_check_payment</th>\n",
       "      <th>mailed_check_payment</th>\n",
       "      <th>high_charges</th>\n",
       "      <th>higher_than_average_charges</th>\n",
       "    </tr>\n",
       "    <tr>\n",
       "      <th>customer_id</th>\n",
       "      <th></th>\n",
       "      <th></th>\n",
       "      <th></th>\n",
       "      <th></th>\n",
       "      <th></th>\n",
       "      <th></th>\n",
       "      <th></th>\n",
       "      <th></th>\n",
       "      <th></th>\n",
       "      <th></th>\n",
       "      <th></th>\n",
       "      <th></th>\n",
       "      <th></th>\n",
       "      <th></th>\n",
       "      <th></th>\n",
       "      <th></th>\n",
       "      <th></th>\n",
       "      <th></th>\n",
       "      <th></th>\n",
       "      <th></th>\n",
       "      <th></th>\n",
       "    </tr>\n",
       "  </thead>\n",
       "  <tbody>\n",
       "  </tbody>\n",
       "</table>\n",
       "<p>0 rows × 29 columns</p>\n",
       "</div>"
      ],
      "text/plain": [
       "Empty DataFrame\n",
       "Columns: [is_male, senior_citizen, partner, dependents, phone_service, paperless_billing, churn, tenure, monthly_charges, total_charges, multiple_lines, online_security, online_backup, device_protection, tech_support, streaming_tv, streaming_movies, m2m_contract, one_year_contract, two_year_contract, DSL_internet, Fiber_internet, no_internet, bank_auto_payment, card_auto_payment, electronic_check_payment, mailed_check_payment, high_charges, higher_than_average_charges]\n",
       "Index: []\n",
       "\n",
       "[0 rows x 29 columns]"
      ]
     },
     "execution_count": 87,
     "metadata": {},
     "output_type": "execute_result"
    }
   ],
   "source": [
    "#no one has this subscription\n",
    "no_phone_Fiber"
   ]
  },
  {
   "cell_type": "code",
   "execution_count": 88,
   "id": "ef023f73",
   "metadata": {},
   "outputs": [],
   "source": [
    "subscription_dfs = [no_phone_DSL, one_line_no_internet, one_line_Fiber, one_line_DSL, multiple_lines_no_internet, \n",
    "                 multiple_lines_Fiber, multiple_lines_DSL]"
   ]
  },
  {
   "cell_type": "code",
   "execution_count": 89,
   "id": "c7d1acf3",
   "metadata": {},
   "outputs": [
    {
     "name": "stdout",
     "output_type": "stream",
     "text": [
      "24% of customers with DSL internet and no phone churn.\n",
      "9% of customers with one phone line and no internet churn.\n",
      "45% of customers with one phone line and Fiber internet churn.\n",
      "23% of customers with one phone line and DSL internet churn.\n",
      "4% of customers with multiple lines and no internet churn.\n",
      "39% of customers with multiple lines and Fiber internet churn.\n",
      "10% of customers with multiple lines and DSL internet churn.\n"
     ]
    },
    {
     "data": {
      "image/png": "[encoded data removed]",
      "text/plain": [
       "<Figure size 936x504 with 1 Axes>"
      ]
     },
     "metadata": {
      "needs_background": "light"
     },
     "output_type": "display_data"
    }
   ],
   "source": [
    "#show churn across subscriptions\n",
    "plt.figure(figsize = (13, 7))\n",
    "plt.title('Churn by Subscription')\n",
    "plt.hist([no_phone_DSL.churn, one_line_no_internet.churn, one_line_Fiber.churn, one_line_DSL.churn,\n",
    "          multiple_lines_no_internet.churn, multiple_lines_Fiber.churn, multiple_lines_DSL.churn],\n",
    "         label = ['no_phone_DSL', 'one_line_no_internet', 'one_line_Fiber', 'one_line_DSL', \n",
    "           'multiple_lines_no_internet', 'multiple_lines_Fiber', 'multiple_lines_DSL']\n",
    "        )\n",
    "plt.grid(True)\n",
    "plt.legend();\n",
    "\n",
    "#for df in subscription_dfs:\n",
    "    #print(f'{round(df.churn.mean() * 100)}%')\n",
    "print(f'{round(no_phone_DSL.churn.mean() * 100)}% of customers with DSL internet and no phone churn.')\n",
    "print(f'{round(one_line_no_internet.churn.mean() * 100)}% of customers with one phone line and no internet churn.')\n",
    "print(f'{round(one_line_Fiber.churn.mean() * 100)}% of customers with one phone line and Fiber internet churn.')\n",
    "print(f'{round(one_line_DSL.churn.mean() * 100)}% of customers with one phone line and DSL internet churn.')\n",
    "print(f'{round(multiple_lines_no_internet.churn.mean() * 100)}% of customers with multiple lines and no internet churn.')\n",
    "print(f'{round(multiple_lines_Fiber.churn.mean() * 100)}% of customers with multiple lines and Fiber internet churn.')\n",
    "print(f'{round(multiple_lines_DSL.churn.mean() * 100)}% of customers with multiple lines and DSL internet churn.')"
   ]
  },
  {
   "cell_type": "markdown",
   "id": "e8137389",
   "metadata": {},
   "source": [
    "A lot of customers with Fiber internet seem to be churning."
   ]
  },
  {
   "cell_type": "code",
   "execution_count": 90,
   "id": "acd49db4",
   "metadata": {},
   "outputs": [],
   "source": [
    "#let's take a closer look at Fiber internet\n",
    "Fiber = train[train.Fiber_internet == 1]\n",
    "DSL = train[train.DSL_internet == 1]"
   ]
  },
  {
   "cell_type": "code",
   "execution_count": 91,
   "id": "66864fd4",
   "metadata": {},
   "outputs": [
    {
     "name": "stdout",
     "output_type": "stream",
     "text": [
      "41% of customers with Fiber internet churn.\n"
     ]
    }
   ],
   "source": [
    "#print churn rate for Fiber customers\n",
    "print(f'{round(Fiber.churn.mean() * 100)}% of customers with Fiber internet churn.')"
   ]
  },
  {
   "cell_type": "code",
   "execution_count": 92,
   "id": "7f1a705c",
   "metadata": {},
   "outputs": [
    {
     "data": {
      "image/png": "[encoded data removed]",
      "text/plain": [
       "<Figure size 432x288 with 1 Axes>"
      ]
     },
     "metadata": {
      "needs_background": "light"
     },
     "output_type": "display_data"
    }
   ],
   "source": [
    "#how do Fiber monthly charges compare with DSL monthly charges?\n",
    "plt.hist([Fiber.monthly_charges, DSL.monthly_charges],\n",
    "         label = ['Fiber customers', 'DSL customers'],\n",
    "         color = ['turquoise', 'plum']\n",
    "        )\n",
    "plt.grid(True)\n",
    "plt.legend()\n",
    "plt.title('Fiber Charges More');"
   ]
  },
  {
   "cell_type": "code",
   "execution_count": 93,
   "id": "6198965e",
   "metadata": {},
   "outputs": [
    {
     "data": {
      "image/png": "[encoded data removed]",
      "text/plain": [
       "<Figure size 432x288 with 1 Axes>"
      ]
     },
     "metadata": {
      "needs_background": "light"
     },
     "output_type": "display_data"
    }
   ],
   "source": [
    "#how do Fiber monthly charges compare with overall monthly charges?\n",
    "plt.hist([Fiber.monthly_charges, train.monthly_charges],\n",
    "         label = ['Fiber customers', 'Overall'],\n",
    "         color = ['turquoise', 'darkseagreen']\n",
    "        )\n",
    "plt.grid(True)\n",
    "plt.legend()\n",
    "plt.title('Fiber Responsible for High Monthly Charges?');"
   ]
  },
  {
   "cell_type": "markdown",
   "id": "88aaf127",
   "metadata": {},
   "source": [
    "Are charges for Fiber customers higher than the average charges?"
   ]
  },
  {
   "cell_type": "markdown",
   "id": "8b6f8003",
   "metadata": {},
   "source": [
    "#### Null hypothesis: Fiber customers' charges are the same as or less than the average monthly charges.\n",
    "#### Alternate hypothesis: Fiber customers' charges are more than the average monthly charges."
   ]
  },
  {
   "cell_type": "code",
   "execution_count": 94,
   "id": "e2fea107",
   "metadata": {},
   "outputs": [
    {
     "data": {
      "text/plain": [
       "1742"
      ]
     },
     "execution_count": 94,
     "metadata": {},
     "output_type": "execute_result"
    }
   ],
   "source": [
    "#how many observations do we have \n",
    "len(Fiber)\n",
    "#distribution seems kinda normal, and we have an abundance of observations"
   ]
  },
  {
   "cell_type": "code",
   "execution_count": 95,
   "id": "cd0835ee",
   "metadata": {},
   "outputs": [
    {
     "data": {
      "text/plain": [
       "Ttest_1sampResult(statistic=86.04774907393157, pvalue=0.0)"
      ]
     },
     "execution_count": 95,
     "metadata": {},
     "output_type": "execute_result"
    }
   ],
   "source": [
    "#Run a T-test to see if Fiber charges are higher than the overall mean of monthly charges\n",
    "stats.ttest_1samp(Fiber.monthly_charges, train.monthly_charges.mean(), alternative = 'greater')"
   ]
  },
  {
   "cell_type": "markdown",
   "id": "cbab7baa",
   "metadata": {},
   "source": [
    "#### Low p-value and positive t-value say I should reject the null hypothesis that Fiber customers' charges are the same or less as average monthly charges."
   ]
  },
  {
   "cell_type": "markdown",
   "id": "89edc08a",
   "metadata": {},
   "source": [
    "Is a Fiber subscription associated with churn?"
   ]
  },
  {
   "cell_type": "code",
   "execution_count": 96,
   "id": "c35217eb",
   "metadata": {},
   "outputs": [
    {
     "name": "stdout",
     "output_type": "stream",
     "text": [
      "27% of overall customers churn.\n",
      "41% of customers with Fiber internet churn.\n"
     ]
    },
    {
     "data": {
      "image/png": "[encoded data removed]",
      "text/plain": [
       "<Figure size 432x288 with 1 Axes>"
      ]
     },
     "metadata": {
      "needs_background": "light"
     },
     "output_type": "display_data"
    }
   ],
   "source": [
    "#let's compare churn\n",
    "plt.hist([Fiber.churn, train.churn],\n",
    "        label = ['Fiber churn', 'Overall churn'],\n",
    "        color = ['chocolate', 'maroon']\n",
    "        )\n",
    "plt.title('Fiber Customers Churn Proportionately More')\n",
    "plt.grid(True)\n",
    "plt.legend();\n",
    "\n",
    "print(f'{round(train.churn.mean() * 100)}% of overall customers churn.')\n",
    "print(f'{round(Fiber.churn.mean() * 100)}% of customers with Fiber internet churn.')"
   ]
  },
  {
   "cell_type": "markdown",
   "id": "1ad50aa5",
   "metadata": {},
   "source": [
    "#### Null hypothesis: Subscription to Fiber and churn are independent of each other.\n",
    "#### Alternate hypothesis: Subscription to Fiber and churn are not independent of each other."
   ]
  },
  {
   "cell_type": "code",
   "execution_count": 97,
   "id": "a62a1c23",
   "metadata": {},
   "outputs": [
    {
     "data": {
      "text/html": [
       "<div>\n",
       "<style scoped>\n",
       "    .dataframe tbody tr th:only-of-type {\n",
       "        vertical-align: middle;\n",
       "    }\n",
       "\n",
       "    .dataframe tbody tr th {\n",
       "        vertical-align: top;\n",
       "    }\n",
       "\n",
       "    .dataframe thead th {\n",
       "        text-align: right;\n",
       "    }\n",
       "</style>\n",
       "<table border=\"1\" class=\"dataframe\">\n",
       "  <thead>\n",
       "    <tr style=\"text-align: right;\">\n",
       "      <th>churn</th>\n",
       "      <th>0</th>\n",
       "      <th>1</th>\n",
       "    </tr>\n",
       "    <tr>\n",
       "      <th>Fiber_internet</th>\n",
       "      <th></th>\n",
       "      <th></th>\n",
       "    </tr>\n",
       "  </thead>\n",
       "  <tbody>\n",
       "    <tr>\n",
       "      <th>0</th>\n",
       "      <td>1862</td>\n",
       "      <td>333</td>\n",
       "    </tr>\n",
       "    <tr>\n",
       "      <th>1</th>\n",
       "      <td>1029</td>\n",
       "      <td>713</td>\n",
       "    </tr>\n",
       "  </tbody>\n",
       "</table>\n",
       "</div>"
      ],
      "text/plain": [
       "churn              0    1\n",
       "Fiber_internet           \n",
       "0               1862  333\n",
       "1               1029  713"
      ]
     },
     "execution_count": 97,
     "metadata": {},
     "output_type": "execute_result"
    }
   ],
   "source": [
    "observed = pd.crosstab(train.Fiber_internet, train.churn)\n",
    "observed"
   ]
  },
  {
   "cell_type": "code",
   "execution_count": 98,
   "id": "b0df6618",
   "metadata": {},
   "outputs": [
    {
     "name": "stdout",
     "output_type": "stream",
     "text": [
      "Observed\n",
      "--------\n",
      "[[1862  333]\n",
      " [1029  713]]\n",
      "===================\n",
      "Expected\n",
      "--------\n",
      "[[1611  583]\n",
      " [1279  462]]\n",
      "===================\n",
      "Degrees of Freedom: 1\n",
      "===================\n",
      "Chi^2 and P\n",
      "-----------\n",
      "chi^2 = 328.9976\n",
      "p = 0.0000\n"
     ]
    }
   ],
   "source": [
    "#results\n",
    "chi2, p, degf, expected = stats.chi2_contingency(observed)\n",
    "print('Observed')\n",
    "print('--------')\n",
    "print(observed.values)\n",
    "print('===================')\n",
    "print('Expected')\n",
    "print('--------')\n",
    "print(expected.astype(int))\n",
    "print('===================')\n",
    "print(f'Degrees of Freedom: {degf}')\n",
    "print('===================')\n",
    "print('Chi^2 and P')\n",
    "print('-----------')\n",
    "print(f'chi^2 = {chi2:.4f}')\n",
    "print(f'p = {p:.4f}')"
   ]
  },
  {
   "cell_type": "markdown",
   "id": "3325e343",
   "metadata": {},
   "source": [
    "#### Extremely low p-value allows me to reject the null hypothesis that a fiber subscription and churn are independent of each other."
   ]
  },
  {
   "cell_type": "markdown",
   "id": "f3345a18",
   "metadata": {},
   "source": [
    "#### Takeaways\n",
    "* having a fiber subscription and churn are associated\n",
    "\n",
    "* customers with a fiber subscription are charged significantly more than the average customer"
   ]
  },
  {
   "cell_type": "code",
   "execution_count": 99,
   "id": "3ec763ba",
   "metadata": {},
   "outputs": [
    {
     "data": {
      "image/png": "[encoded data removed]",
      "text/plain": [
       "<Figure size 582.375x540 with 12 Axes>"
      ]
     },
     "metadata": {
      "needs_background": "light"
     },
     "output_type": "display_data"
    }
   ],
   "source": [
    "#how do continuous variables interact with each other and the target?\n",
    "sns.pairplot(train, vars = quant_vars, hue = 'churn')\n",
    "plt.show();"
   ]
  },
  {
   "cell_type": "markdown",
   "id": "307f1c69",
   "metadata": {},
   "source": [
    "#### Takeaways\n",
    "* lots of churn for customers with high monthly charges early in the tenure"
   ]
  },
  {
   "cell_type": "code",
   "execution_count": 100,
   "id": "74337698",
   "metadata": {},
   "outputs": [
    {
     "data": {
      "text/html": [
       "<div>\n",
       "<style scoped>\n",
       "    .dataframe tbody tr th:only-of-type {\n",
       "        vertical-align: middle;\n",
       "    }\n",
       "\n",
       "    .dataframe tbody tr th {\n",
       "        vertical-align: top;\n",
       "    }\n",
       "\n",
       "    .dataframe thead th {\n",
       "        text-align: right;\n",
       "    }\n",
       "</style>\n",
       "<table border=\"1\" class=\"dataframe\">\n",
       "  <thead>\n",
       "    <tr style=\"text-align: right;\">\n",
       "      <th></th>\n",
       "      <th>churn</th>\n",
       "    </tr>\n",
       "  </thead>\n",
       "  <tbody>\n",
       "    <tr>\n",
       "      <th>churn</th>\n",
       "      <td>1.000000</td>\n",
       "    </tr>\n",
       "    <tr>\n",
       "      <th>m2m_contract</th>\n",
       "      <td>0.404579</td>\n",
       "    </tr>\n",
       "    <tr>\n",
       "      <th>Fiber_internet</th>\n",
       "      <td>0.289656</td>\n",
       "    </tr>\n",
       "    <tr>\n",
       "      <th>electronic_check_payment</th>\n",
       "      <td>0.279599</td>\n",
       "    </tr>\n",
       "    <tr>\n",
       "      <th>paperless_billing</th>\n",
       "      <td>0.195112</td>\n",
       "    </tr>\n",
       "    <tr>\n",
       "      <th>higher_than_average_charges</th>\n",
       "      <td>0.190416</td>\n",
       "    </tr>\n",
       "    <tr>\n",
       "      <th>monthly_charges</th>\n",
       "      <td>0.171508</td>\n",
       "    </tr>\n",
       "    <tr>\n",
       "      <th>senior_citizen</th>\n",
       "      <td>0.149055</td>\n",
       "    </tr>\n",
       "    <tr>\n",
       "      <th>high_charges</th>\n",
       "      <td>0.053628</td>\n",
       "    </tr>\n",
       "    <tr>\n",
       "      <th>streaming_tv</th>\n",
       "      <td>0.047658</td>\n",
       "    </tr>\n",
       "    <tr>\n",
       "      <th>streaming_movies</th>\n",
       "      <td>0.040930</td>\n",
       "    </tr>\n",
       "    <tr>\n",
       "      <th>multiple_lines</th>\n",
       "      <td>0.023388</td>\n",
       "    </tr>\n",
       "    <tr>\n",
       "      <th>phone_service</th>\n",
       "      <td>0.015501</td>\n",
       "    </tr>\n",
       "    <tr>\n",
       "      <th>is_male</th>\n",
       "      <td>-0.027333</td>\n",
       "    </tr>\n",
       "    <tr>\n",
       "      <th>mailed_check_payment</th>\n",
       "      <td>-0.062111</td>\n",
       "    </tr>\n",
       "    <tr>\n",
       "      <th>device_protection</th>\n",
       "      <td>-0.076116</td>\n",
       "    </tr>\n",
       "    <tr>\n",
       "      <th>online_backup</th>\n",
       "      <td>-0.089964</td>\n",
       "    </tr>\n",
       "    <tr>\n",
       "      <th>DSL_internet</th>\n",
       "      <td>-0.113479</td>\n",
       "    </tr>\n",
       "    <tr>\n",
       "      <th>bank_auto_payment</th>\n",
       "      <td>-0.120166</td>\n",
       "    </tr>\n",
       "    <tr>\n",
       "      <th>card_auto_payment</th>\n",
       "      <td>-0.140626</td>\n",
       "    </tr>\n",
       "    <tr>\n",
       "      <th>partner</th>\n",
       "      <td>-0.148780</td>\n",
       "    </tr>\n",
       "    <tr>\n",
       "      <th>dependents</th>\n",
       "      <td>-0.169095</td>\n",
       "    </tr>\n",
       "    <tr>\n",
       "      <th>one_year_contract</th>\n",
       "      <td>-0.183962</td>\n",
       "    </tr>\n",
       "    <tr>\n",
       "      <th>online_security</th>\n",
       "      <td>-0.185014</td>\n",
       "    </tr>\n",
       "    <tr>\n",
       "      <th>tech_support</th>\n",
       "      <td>-0.194047</td>\n",
       "    </tr>\n",
       "    <tr>\n",
       "      <th>total_charges</th>\n",
       "      <td>-0.202629</td>\n",
       "    </tr>\n",
       "    <tr>\n",
       "      <th>no_internet</th>\n",
       "      <td>-0.219496</td>\n",
       "    </tr>\n",
       "    <tr>\n",
       "      <th>two_year_contract</th>\n",
       "      <td>-0.294711</td>\n",
       "    </tr>\n",
       "    <tr>\n",
       "      <th>tenure</th>\n",
       "      <td>-0.355279</td>\n",
       "    </tr>\n",
       "  </tbody>\n",
       "</table>\n",
       "</div>"
      ],
      "text/plain": [
       "                                churn\n",
       "churn                        1.000000\n",
       "m2m_contract                 0.404579\n",
       "Fiber_internet               0.289656\n",
       "electronic_check_payment     0.279599\n",
       "paperless_billing            0.195112\n",
       "higher_than_average_charges  0.190416\n",
       "monthly_charges              0.171508\n",
       "senior_citizen               0.149055\n",
       "high_charges                 0.053628\n",
       "streaming_tv                 0.047658\n",
       "streaming_movies             0.040930\n",
       "multiple_lines               0.023388\n",
       "phone_service                0.015501\n",
       "is_male                     -0.027333\n",
       "mailed_check_payment        -0.062111\n",
       "device_protection           -0.076116\n",
       "online_backup               -0.089964\n",
       "DSL_internet                -0.113479\n",
       "bank_auto_payment           -0.120166\n",
       "card_auto_payment           -0.140626\n",
       "partner                     -0.148780\n",
       "dependents                  -0.169095\n",
       "one_year_contract           -0.183962\n",
       "online_security             -0.185014\n",
       "tech_support                -0.194047\n",
       "total_charges               -0.202629\n",
       "no_internet                 -0.219496\n",
       "two_year_contract           -0.294711\n",
       "tenure                      -0.355279"
      ]
     },
     "execution_count": 100,
     "metadata": {},
     "output_type": "execute_result"
    }
   ],
   "source": [
    "#what correlates with churn?\n",
    "heat_map = pd.DataFrame(train.corr()['churn'])\n",
    "heat_map.sort_values(by = 'churn', ascending = False)"
   ]
  },
  {
   "cell_type": "code",
   "execution_count": 101,
   "id": "e9376348",
   "metadata": {},
   "outputs": [
    {
     "data": {
      "image/png": "[encoded data removed]",
      "text/plain": [
       "<Figure size 936x936 with 2 Axes>"
      ]
     },
     "metadata": {
      "needs_background": "light"
     },
     "output_type": "display_data"
    }
   ],
   "source": [
    "#viz\n",
    "plt.figure(figsize = (13, 13))\n",
    "plt.title('Correlation Between Features and Churn', pad = 22)\n",
    "sns.heatmap(heat_map.sort_values(by = 'churn', ascending = False), cmap = 'mako', center = 0, annot = True)\n",
    "plt.show();"
   ]
  },
  {
   "cell_type": "markdown",
   "id": "5a65099a",
   "metadata": {},
   "source": [
    "#### Takeaways\n",
    "* m2m_contract, tenure, Fiber_internet, two_year_contract, and electronic_check_payment have the strongest correlation with churn\n",
    "* Month-to-month contracts, Fiber subscriptions and the electronic check payment method positively correlate the most with churn\n",
    "* Tenure and 2-year contracts negatively correlate the most with churn"
   ]
  },
  {
   "cell_type": "markdown",
   "id": "b1f4b61e",
   "metadata": {},
   "source": [
    "## Exploration Takeaways\n"
   ]
  },
  {
   "cell_type": "markdown",
   "id": "f292ce90",
   "metadata": {},
   "source": [
    "Viz Takeaways\n",
    "\n",
    "* over a quarter of customers are churning\n",
    "\n",
    "* customers on the month-to-month contract churn far more than customers on other contracts\n",
    "\n",
    "* churn rate for male customers and female customers seem the same\n",
    "\n",
    "* customers without dependents seem to churn more than those without\n",
    "\n",
    "* customers without a partner seem to churn much more\n",
    "\n",
    "* m2m_contract, tenure, Fiber_internet, two_year_contract, and electronic_check_payment have the strongest correlation with churn\n",
    "\n",
    "* Month-to-month contracts, Fiber subscriptions and the electronic check payment method positively correlate the most with churn\n",
    "\n",
    "* Tenure and 2-year contracts negatively correlate the most with churn\n",
    "\n",
    "* lots of churn for customers with high monthly charges early in the tenure\n",
    "\n",
    "Stats Tests Takeaways\n",
    "\n",
    "* customers who churn are charged significantly more than those who do not\n",
    "\n",
    "* higher charges are associated with churn\n",
    "\n",
    "* having a fiber subscription and churn are associated\n",
    "\n",
    "* customers with a fiber subscription are charged significantly more than the average customer\n",
    "\n",
    "Moving Forward\n",
    "* I will move forward with the higher charges features because the chi2 statistic seems too strong to ignore\n",
    "\n",
    "* I will move forward with the fiber subscription feature because customers with fiber have higher charges and churn and fiber internet are associated here"
   ]
  },
  {
   "cell_type": "code",
   "execution_count": null,
   "id": "f0a546dc",
   "metadata": {},
   "outputs": [],
   "source": []
  }
 ],
 "metadata": {
  "kernelspec": {
   "display_name": "Python 3",
   "language": "python",
   "name": "python3"
  },
  "language_info": {
   "codemirror_mode": {
    "name": "ipython",
    "version": 3
   },
   "file_extension": ".py",
   "mimetype": "text/x-python",
   "name": "python",
   "nbconvert_exporter": "python",
   "pygments_lexer": "ipython3",
   "version": "3.8.8"
  }
 },
 "nbformat": 4,
 "nbformat_minor": 5
}
